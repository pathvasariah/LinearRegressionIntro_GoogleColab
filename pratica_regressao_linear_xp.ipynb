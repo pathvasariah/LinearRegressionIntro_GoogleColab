{
  "nbformat": 4,
  "nbformat_minor": 0,
  "metadata": {
    "colab": {
      "provenance": [],
      "authorship_tag": "ABX9TyPGKbQRIm6AQrEXSGxY5lee",
      "include_colab_link": true
    },
    "kernelspec": {
      "name": "python3",
      "display_name": "Python 3"
    },
    "language_info": {
      "name": "python"
    }
  },
  "cells": [
    {
      "cell_type": "markdown",
      "metadata": {
        "id": "view-in-github",
        "colab_type": "text"
      },
      "source": [
        "<a href=\"https://colab.research.google.com/github/pathvasariah/LinearRegressionIntro_GoogleColab/blob/main/pratica_regressao_linear_xp.ipynb\" target=\"_parent\"><img src=\"https://colab.research.google.com/assets/colab-badge.svg\" alt=\"Open In Colab\"/></a>"
      ]
    },
    {
      "cell_type": "markdown",
      "source": [
        "*   Carregar dataset custo_diaria;\n",
        "*   Análise dos dados coletados;\n",
        "*   Tratamento dos dados;\n",
        "*   Aplicar modelo ML de regressão linear;\n",
        "*   Avaliar as métricas do modelo criado;\n",
        "\n",
        "\n"
      ],
      "metadata": {
        "id": "wITNxmYcJgeS"
      }
    },
    {
      "cell_type": "markdown",
      "source": [
        "## Importando as bibliotecas"
      ],
      "metadata": {
        "id": "ZFC2qTsMKI1i"
      }
    },
    {
      "cell_type": "code",
      "execution_count": null,
      "metadata": {
        "id": "1FaEz6iyJUpl"
      },
      "outputs": [],
      "source": [
        "import pandas as pd\n",
        "import plotly.express as px\n",
        "import seaborn as sns\n",
        "import numpy as np\n",
        "from sklearn.metrics import mean_absolute_error, mean_squared_error"
      ]
    },
    {
      "cell_type": "markdown",
      "source": [
        "## Coletando os dados"
      ],
      "metadata": {
        "id": "yKbDZVEEKv-5"
      }
    },
    {
      "cell_type": "code",
      "source": [
        "custo_diaria = pd.read_csv('/content/custo_diário.csv' ,sep = ',')"
      ],
      "metadata": {
        "id": "K2sdxqdUK4cx"
      },
      "execution_count": null,
      "outputs": []
    },
    {
      "cell_type": "markdown",
      "source": [
        "## Analisando os dados coletados"
      ],
      "metadata": {
        "id": "17M34BESKzXJ"
      }
    },
    {
      "cell_type": "code",
      "source": [
        "# Visualizando arqivos da base de dados;\n",
        "custo_diaria.head()"
      ],
      "metadata": {
        "colab": {
          "base_uri": "https://localhost:8080/",
          "height": 206
        },
        "id": "JDiz5JvUO53t",
        "outputId": "ba741fad-d78c-4578-daef-b3e8579ea917"
      },
      "execution_count": null,
      "outputs": [
        {
          "output_type": "execute_result",
          "data": {
            "text/plain": [
              "   qtd_pessoas  valor_diaria\n",
              "0            1           150\n",
              "1            4           385\n",
              "2            6           499\n",
              "3           10           680\n",
              "4           13           735"
            ],
            "text/html": [
              "\n",
              "  <div id=\"df-8417a6a9-27f9-452f-b617-481d785caadc\" class=\"colab-df-container\">\n",
              "    <div>\n",
              "<style scoped>\n",
              "    .dataframe tbody tr th:only-of-type {\n",
              "        vertical-align: middle;\n",
              "    }\n",
              "\n",
              "    .dataframe tbody tr th {\n",
              "        vertical-align: top;\n",
              "    }\n",
              "\n",
              "    .dataframe thead th {\n",
              "        text-align: right;\n",
              "    }\n",
              "</style>\n",
              "<table border=\"1\" class=\"dataframe\">\n",
              "  <thead>\n",
              "    <tr style=\"text-align: right;\">\n",
              "      <th></th>\n",
              "      <th>qtd_pessoas</th>\n",
              "      <th>valor_diaria</th>\n",
              "    </tr>\n",
              "  </thead>\n",
              "  <tbody>\n",
              "    <tr>\n",
              "      <th>0</th>\n",
              "      <td>1</td>\n",
              "      <td>150</td>\n",
              "    </tr>\n",
              "    <tr>\n",
              "      <th>1</th>\n",
              "      <td>4</td>\n",
              "      <td>385</td>\n",
              "    </tr>\n",
              "    <tr>\n",
              "      <th>2</th>\n",
              "      <td>6</td>\n",
              "      <td>499</td>\n",
              "    </tr>\n",
              "    <tr>\n",
              "      <th>3</th>\n",
              "      <td>10</td>\n",
              "      <td>680</td>\n",
              "    </tr>\n",
              "    <tr>\n",
              "      <th>4</th>\n",
              "      <td>13</td>\n",
              "      <td>735</td>\n",
              "    </tr>\n",
              "  </tbody>\n",
              "</table>\n",
              "</div>\n",
              "    <div class=\"colab-df-buttons\">\n",
              "\n",
              "  <div class=\"colab-df-container\">\n",
              "    <button class=\"colab-df-convert\" onclick=\"convertToInteractive('df-8417a6a9-27f9-452f-b617-481d785caadc')\"\n",
              "            title=\"Convert this dataframe to an interactive table.\"\n",
              "            style=\"display:none;\">\n",
              "\n",
              "  <svg xmlns=\"http://www.w3.org/2000/svg\" height=\"24px\" viewBox=\"0 -960 960 960\">\n",
              "    <path d=\"M120-120v-720h720v720H120Zm60-500h600v-160H180v160Zm220 220h160v-160H400v160Zm0 220h160v-160H400v160ZM180-400h160v-160H180v160Zm440 0h160v-160H620v160ZM180-180h160v-160H180v160Zm440 0h160v-160H620v160Z\"/>\n",
              "  </svg>\n",
              "    </button>\n",
              "\n",
              "  <style>\n",
              "    .colab-df-container {\n",
              "      display:flex;\n",
              "      gap: 12px;\n",
              "    }\n",
              "\n",
              "    .colab-df-convert {\n",
              "      background-color: #E8F0FE;\n",
              "      border: none;\n",
              "      border-radius: 50%;\n",
              "      cursor: pointer;\n",
              "      display: none;\n",
              "      fill: #1967D2;\n",
              "      height: 32px;\n",
              "      padding: 0 0 0 0;\n",
              "      width: 32px;\n",
              "    }\n",
              "\n",
              "    .colab-df-convert:hover {\n",
              "      background-color: #E2EBFA;\n",
              "      box-shadow: 0px 1px 2px rgba(60, 64, 67, 0.3), 0px 1px 3px 1px rgba(60, 64, 67, 0.15);\n",
              "      fill: #174EA6;\n",
              "    }\n",
              "\n",
              "    .colab-df-buttons div {\n",
              "      margin-bottom: 4px;\n",
              "    }\n",
              "\n",
              "    [theme=dark] .colab-df-convert {\n",
              "      background-color: #3B4455;\n",
              "      fill: #D2E3FC;\n",
              "    }\n",
              "\n",
              "    [theme=dark] .colab-df-convert:hover {\n",
              "      background-color: #434B5C;\n",
              "      box-shadow: 0px 1px 3px 1px rgba(0, 0, 0, 0.15);\n",
              "      filter: drop-shadow(0px 1px 2px rgba(0, 0, 0, 0.3));\n",
              "      fill: #FFFFFF;\n",
              "    }\n",
              "  </style>\n",
              "\n",
              "    <script>\n",
              "      const buttonEl =\n",
              "        document.querySelector('#df-8417a6a9-27f9-452f-b617-481d785caadc button.colab-df-convert');\n",
              "      buttonEl.style.display =\n",
              "        google.colab.kernel.accessAllowed ? 'block' : 'none';\n",
              "\n",
              "      async function convertToInteractive(key) {\n",
              "        const element = document.querySelector('#df-8417a6a9-27f9-452f-b617-481d785caadc');\n",
              "        const dataTable =\n",
              "          await google.colab.kernel.invokeFunction('convertToInteractive',\n",
              "                                                    [key], {});\n",
              "        if (!dataTable) return;\n",
              "\n",
              "        const docLinkHtml = 'Like what you see? Visit the ' +\n",
              "          '<a target=\"_blank\" href=https://colab.research.google.com/notebooks/data_table.ipynb>data table notebook</a>'\n",
              "          + ' to learn more about interactive tables.';\n",
              "        element.innerHTML = '';\n",
              "        dataTable['output_type'] = 'display_data';\n",
              "        await google.colab.output.renderOutput(dataTable, element);\n",
              "        const docLink = document.createElement('div');\n",
              "        docLink.innerHTML = docLinkHtml;\n",
              "        element.appendChild(docLink);\n",
              "      }\n",
              "    </script>\n",
              "  </div>\n",
              "\n",
              "\n",
              "<div id=\"df-89d81838-705b-4bb1-9fe9-6cfe3f460bc5\">\n",
              "  <button class=\"colab-df-quickchart\" onclick=\"quickchart('df-89d81838-705b-4bb1-9fe9-6cfe3f460bc5')\"\n",
              "            title=\"Suggest charts\"\n",
              "            style=\"display:none;\">\n",
              "\n",
              "<svg xmlns=\"http://www.w3.org/2000/svg\" height=\"24px\"viewBox=\"0 0 24 24\"\n",
              "     width=\"24px\">\n",
              "    <g>\n",
              "        <path d=\"M19 3H5c-1.1 0-2 .9-2 2v14c0 1.1.9 2 2 2h14c1.1 0 2-.9 2-2V5c0-1.1-.9-2-2-2zM9 17H7v-7h2v7zm4 0h-2V7h2v10zm4 0h-2v-4h2v4z\"/>\n",
              "    </g>\n",
              "</svg>\n",
              "  </button>\n",
              "\n",
              "<style>\n",
              "  .colab-df-quickchart {\n",
              "      --bg-color: #E8F0FE;\n",
              "      --fill-color: #1967D2;\n",
              "      --hover-bg-color: #E2EBFA;\n",
              "      --hover-fill-color: #174EA6;\n",
              "      --disabled-fill-color: #AAA;\n",
              "      --disabled-bg-color: #DDD;\n",
              "  }\n",
              "\n",
              "  [theme=dark] .colab-df-quickchart {\n",
              "      --bg-color: #3B4455;\n",
              "      --fill-color: #D2E3FC;\n",
              "      --hover-bg-color: #434B5C;\n",
              "      --hover-fill-color: #FFFFFF;\n",
              "      --disabled-bg-color: #3B4455;\n",
              "      --disabled-fill-color: #666;\n",
              "  }\n",
              "\n",
              "  .colab-df-quickchart {\n",
              "    background-color: var(--bg-color);\n",
              "    border: none;\n",
              "    border-radius: 50%;\n",
              "    cursor: pointer;\n",
              "    display: none;\n",
              "    fill: var(--fill-color);\n",
              "    height: 32px;\n",
              "    padding: 0;\n",
              "    width: 32px;\n",
              "  }\n",
              "\n",
              "  .colab-df-quickchart:hover {\n",
              "    background-color: var(--hover-bg-color);\n",
              "    box-shadow: 0 1px 2px rgba(60, 64, 67, 0.3), 0 1px 3px 1px rgba(60, 64, 67, 0.15);\n",
              "    fill: var(--button-hover-fill-color);\n",
              "  }\n",
              "\n",
              "  .colab-df-quickchart-complete:disabled,\n",
              "  .colab-df-quickchart-complete:disabled:hover {\n",
              "    background-color: var(--disabled-bg-color);\n",
              "    fill: var(--disabled-fill-color);\n",
              "    box-shadow: none;\n",
              "  }\n",
              "\n",
              "  .colab-df-spinner {\n",
              "    border: 2px solid var(--fill-color);\n",
              "    border-color: transparent;\n",
              "    border-bottom-color: var(--fill-color);\n",
              "    animation:\n",
              "      spin 1s steps(1) infinite;\n",
              "  }\n",
              "\n",
              "  @keyframes spin {\n",
              "    0% {\n",
              "      border-color: transparent;\n",
              "      border-bottom-color: var(--fill-color);\n",
              "      border-left-color: var(--fill-color);\n",
              "    }\n",
              "    20% {\n",
              "      border-color: transparent;\n",
              "      border-left-color: var(--fill-color);\n",
              "      border-top-color: var(--fill-color);\n",
              "    }\n",
              "    30% {\n",
              "      border-color: transparent;\n",
              "      border-left-color: var(--fill-color);\n",
              "      border-top-color: var(--fill-color);\n",
              "      border-right-color: var(--fill-color);\n",
              "    }\n",
              "    40% {\n",
              "      border-color: transparent;\n",
              "      border-right-color: var(--fill-color);\n",
              "      border-top-color: var(--fill-color);\n",
              "    }\n",
              "    60% {\n",
              "      border-color: transparent;\n",
              "      border-right-color: var(--fill-color);\n",
              "    }\n",
              "    80% {\n",
              "      border-color: transparent;\n",
              "      border-right-color: var(--fill-color);\n",
              "      border-bottom-color: var(--fill-color);\n",
              "    }\n",
              "    90% {\n",
              "      border-color: transparent;\n",
              "      border-bottom-color: var(--fill-color);\n",
              "    }\n",
              "  }\n",
              "</style>\n",
              "\n",
              "  <script>\n",
              "    async function quickchart(key) {\n",
              "      const quickchartButtonEl =\n",
              "        document.querySelector('#' + key + ' button');\n",
              "      quickchartButtonEl.disabled = true;  // To prevent multiple clicks.\n",
              "      quickchartButtonEl.classList.add('colab-df-spinner');\n",
              "      try {\n",
              "        const charts = await google.colab.kernel.invokeFunction(\n",
              "            'suggestCharts', [key], {});\n",
              "      } catch (error) {\n",
              "        console.error('Error during call to suggestCharts:', error);\n",
              "      }\n",
              "      quickchartButtonEl.classList.remove('colab-df-spinner');\n",
              "      quickchartButtonEl.classList.add('colab-df-quickchart-complete');\n",
              "    }\n",
              "    (() => {\n",
              "      let quickchartButtonEl =\n",
              "        document.querySelector('#df-89d81838-705b-4bb1-9fe9-6cfe3f460bc5 button');\n",
              "      quickchartButtonEl.style.display =\n",
              "        google.colab.kernel.accessAllowed ? 'block' : 'none';\n",
              "    })();\n",
              "  </script>\n",
              "</div>\n",
              "\n",
              "    </div>\n",
              "  </div>\n"
            ],
            "application/vnd.google.colaboratory.intrinsic+json": {
              "type": "dataframe",
              "variable_name": "custo_diaria",
              "summary": "{\n  \"name\": \"custo_diaria\",\n  \"rows\": 10,\n  \"fields\": [\n    {\n      \"column\": \"qtd_pessoas\",\n      \"properties\": {\n        \"dtype\": \"number\",\n        \"std\": 9,\n        \"min\": 1,\n        \"max\": 30,\n        \"num_unique_values\": 10,\n        \"samples\": [\n          25,\n          4,\n          15\n        ],\n        \"semantic_type\": \"\",\n        \"description\": \"\"\n      }\n    },\n    {\n      \"column\": \"valor_diaria\",\n      \"properties\": {\n        \"dtype\": \"number\",\n        \"std\": 511,\n        \"min\": 150,\n        \"max\": 1850,\n        \"num_unique_values\": 10,\n        \"samples\": [\n          1500,\n          385,\n          859\n        ],\n        \"semantic_type\": \"\",\n        \"description\": \"\"\n      }\n    }\n  ]\n}"
            }
          },
          "metadata": {},
          "execution_count": 9
        }
      ]
    },
    {
      "cell_type": "code",
      "source": [
        "# Gerando algumas estatísticas da base de dados;\n",
        "custo_diaria.describe()"
      ],
      "metadata": {
        "colab": {
          "base_uri": "https://localhost:8080/",
          "height": 300
        },
        "id": "FFY8UQk4P8aN",
        "outputId": "17c7be80-4ea6-465f-8b02-79fc43f9caef"
      },
      "execution_count": null,
      "outputs": [
        {
          "output_type": "execute_result",
          "data": {
            "text/plain": [
              "       qtd_pessoas  valor_diaria\n",
              "count    10.000000     10.000000\n",
              "mean     14.400000    872.200000\n",
              "std       9.465728    511.984114\n",
              "min       1.000000    150.000000\n",
              "25%       7.000000    544.250000\n",
              "50%      14.000000    797.000000\n",
              "75%      21.000000   1053.500000\n",
              "max      30.000000   1850.000000"
            ],
            "text/html": [
              "\n",
              "  <div id=\"df-bc41f9d3-1aa0-4249-a7e5-912db722de49\" class=\"colab-df-container\">\n",
              "    <div>\n",
              "<style scoped>\n",
              "    .dataframe tbody tr th:only-of-type {\n",
              "        vertical-align: middle;\n",
              "    }\n",
              "\n",
              "    .dataframe tbody tr th {\n",
              "        vertical-align: top;\n",
              "    }\n",
              "\n",
              "    .dataframe thead th {\n",
              "        text-align: right;\n",
              "    }\n",
              "</style>\n",
              "<table border=\"1\" class=\"dataframe\">\n",
              "  <thead>\n",
              "    <tr style=\"text-align: right;\">\n",
              "      <th></th>\n",
              "      <th>qtd_pessoas</th>\n",
              "      <th>valor_diaria</th>\n",
              "    </tr>\n",
              "  </thead>\n",
              "  <tbody>\n",
              "    <tr>\n",
              "      <th>count</th>\n",
              "      <td>10.000000</td>\n",
              "      <td>10.000000</td>\n",
              "    </tr>\n",
              "    <tr>\n",
              "      <th>mean</th>\n",
              "      <td>14.400000</td>\n",
              "      <td>872.200000</td>\n",
              "    </tr>\n",
              "    <tr>\n",
              "      <th>std</th>\n",
              "      <td>9.465728</td>\n",
              "      <td>511.984114</td>\n",
              "    </tr>\n",
              "    <tr>\n",
              "      <th>min</th>\n",
              "      <td>1.000000</td>\n",
              "      <td>150.000000</td>\n",
              "    </tr>\n",
              "    <tr>\n",
              "      <th>25%</th>\n",
              "      <td>7.000000</td>\n",
              "      <td>544.250000</td>\n",
              "    </tr>\n",
              "    <tr>\n",
              "      <th>50%</th>\n",
              "      <td>14.000000</td>\n",
              "      <td>797.000000</td>\n",
              "    </tr>\n",
              "    <tr>\n",
              "      <th>75%</th>\n",
              "      <td>21.000000</td>\n",
              "      <td>1053.500000</td>\n",
              "    </tr>\n",
              "    <tr>\n",
              "      <th>max</th>\n",
              "      <td>30.000000</td>\n",
              "      <td>1850.000000</td>\n",
              "    </tr>\n",
              "  </tbody>\n",
              "</table>\n",
              "</div>\n",
              "    <div class=\"colab-df-buttons\">\n",
              "\n",
              "  <div class=\"colab-df-container\">\n",
              "    <button class=\"colab-df-convert\" onclick=\"convertToInteractive('df-bc41f9d3-1aa0-4249-a7e5-912db722de49')\"\n",
              "            title=\"Convert this dataframe to an interactive table.\"\n",
              "            style=\"display:none;\">\n",
              "\n",
              "  <svg xmlns=\"http://www.w3.org/2000/svg\" height=\"24px\" viewBox=\"0 -960 960 960\">\n",
              "    <path d=\"M120-120v-720h720v720H120Zm60-500h600v-160H180v160Zm220 220h160v-160H400v160Zm0 220h160v-160H400v160ZM180-400h160v-160H180v160Zm440 0h160v-160H620v160ZM180-180h160v-160H180v160Zm440 0h160v-160H620v160Z\"/>\n",
              "  </svg>\n",
              "    </button>\n",
              "\n",
              "  <style>\n",
              "    .colab-df-container {\n",
              "      display:flex;\n",
              "      gap: 12px;\n",
              "    }\n",
              "\n",
              "    .colab-df-convert {\n",
              "      background-color: #E8F0FE;\n",
              "      border: none;\n",
              "      border-radius: 50%;\n",
              "      cursor: pointer;\n",
              "      display: none;\n",
              "      fill: #1967D2;\n",
              "      height: 32px;\n",
              "      padding: 0 0 0 0;\n",
              "      width: 32px;\n",
              "    }\n",
              "\n",
              "    .colab-df-convert:hover {\n",
              "      background-color: #E2EBFA;\n",
              "      box-shadow: 0px 1px 2px rgba(60, 64, 67, 0.3), 0px 1px 3px 1px rgba(60, 64, 67, 0.15);\n",
              "      fill: #174EA6;\n",
              "    }\n",
              "\n",
              "    .colab-df-buttons div {\n",
              "      margin-bottom: 4px;\n",
              "    }\n",
              "\n",
              "    [theme=dark] .colab-df-convert {\n",
              "      background-color: #3B4455;\n",
              "      fill: #D2E3FC;\n",
              "    }\n",
              "\n",
              "    [theme=dark] .colab-df-convert:hover {\n",
              "      background-color: #434B5C;\n",
              "      box-shadow: 0px 1px 3px 1px rgba(0, 0, 0, 0.15);\n",
              "      filter: drop-shadow(0px 1px 2px rgba(0, 0, 0, 0.3));\n",
              "      fill: #FFFFFF;\n",
              "    }\n",
              "  </style>\n",
              "\n",
              "    <script>\n",
              "      const buttonEl =\n",
              "        document.querySelector('#df-bc41f9d3-1aa0-4249-a7e5-912db722de49 button.colab-df-convert');\n",
              "      buttonEl.style.display =\n",
              "        google.colab.kernel.accessAllowed ? 'block' : 'none';\n",
              "\n",
              "      async function convertToInteractive(key) {\n",
              "        const element = document.querySelector('#df-bc41f9d3-1aa0-4249-a7e5-912db722de49');\n",
              "        const dataTable =\n",
              "          await google.colab.kernel.invokeFunction('convertToInteractive',\n",
              "                                                    [key], {});\n",
              "        if (!dataTable) return;\n",
              "\n",
              "        const docLinkHtml = 'Like what you see? Visit the ' +\n",
              "          '<a target=\"_blank\" href=https://colab.research.google.com/notebooks/data_table.ipynb>data table notebook</a>'\n",
              "          + ' to learn more about interactive tables.';\n",
              "        element.innerHTML = '';\n",
              "        dataTable['output_type'] = 'display_data';\n",
              "        await google.colab.output.renderOutput(dataTable, element);\n",
              "        const docLink = document.createElement('div');\n",
              "        docLink.innerHTML = docLinkHtml;\n",
              "        element.appendChild(docLink);\n",
              "      }\n",
              "    </script>\n",
              "  </div>\n",
              "\n",
              "\n",
              "<div id=\"df-86d6160e-dd97-4e72-b0a7-b85b046e8227\">\n",
              "  <button class=\"colab-df-quickchart\" onclick=\"quickchart('df-86d6160e-dd97-4e72-b0a7-b85b046e8227')\"\n",
              "            title=\"Suggest charts\"\n",
              "            style=\"display:none;\">\n",
              "\n",
              "<svg xmlns=\"http://www.w3.org/2000/svg\" height=\"24px\"viewBox=\"0 0 24 24\"\n",
              "     width=\"24px\">\n",
              "    <g>\n",
              "        <path d=\"M19 3H5c-1.1 0-2 .9-2 2v14c0 1.1.9 2 2 2h14c1.1 0 2-.9 2-2V5c0-1.1-.9-2-2-2zM9 17H7v-7h2v7zm4 0h-2V7h2v10zm4 0h-2v-4h2v4z\"/>\n",
              "    </g>\n",
              "</svg>\n",
              "  </button>\n",
              "\n",
              "<style>\n",
              "  .colab-df-quickchart {\n",
              "      --bg-color: #E8F0FE;\n",
              "      --fill-color: #1967D2;\n",
              "      --hover-bg-color: #E2EBFA;\n",
              "      --hover-fill-color: #174EA6;\n",
              "      --disabled-fill-color: #AAA;\n",
              "      --disabled-bg-color: #DDD;\n",
              "  }\n",
              "\n",
              "  [theme=dark] .colab-df-quickchart {\n",
              "      --bg-color: #3B4455;\n",
              "      --fill-color: #D2E3FC;\n",
              "      --hover-bg-color: #434B5C;\n",
              "      --hover-fill-color: #FFFFFF;\n",
              "      --disabled-bg-color: #3B4455;\n",
              "      --disabled-fill-color: #666;\n",
              "  }\n",
              "\n",
              "  .colab-df-quickchart {\n",
              "    background-color: var(--bg-color);\n",
              "    border: none;\n",
              "    border-radius: 50%;\n",
              "    cursor: pointer;\n",
              "    display: none;\n",
              "    fill: var(--fill-color);\n",
              "    height: 32px;\n",
              "    padding: 0;\n",
              "    width: 32px;\n",
              "  }\n",
              "\n",
              "  .colab-df-quickchart:hover {\n",
              "    background-color: var(--hover-bg-color);\n",
              "    box-shadow: 0 1px 2px rgba(60, 64, 67, 0.3), 0 1px 3px 1px rgba(60, 64, 67, 0.15);\n",
              "    fill: var(--button-hover-fill-color);\n",
              "  }\n",
              "\n",
              "  .colab-df-quickchart-complete:disabled,\n",
              "  .colab-df-quickchart-complete:disabled:hover {\n",
              "    background-color: var(--disabled-bg-color);\n",
              "    fill: var(--disabled-fill-color);\n",
              "    box-shadow: none;\n",
              "  }\n",
              "\n",
              "  .colab-df-spinner {\n",
              "    border: 2px solid var(--fill-color);\n",
              "    border-color: transparent;\n",
              "    border-bottom-color: var(--fill-color);\n",
              "    animation:\n",
              "      spin 1s steps(1) infinite;\n",
              "  }\n",
              "\n",
              "  @keyframes spin {\n",
              "    0% {\n",
              "      border-color: transparent;\n",
              "      border-bottom-color: var(--fill-color);\n",
              "      border-left-color: var(--fill-color);\n",
              "    }\n",
              "    20% {\n",
              "      border-color: transparent;\n",
              "      border-left-color: var(--fill-color);\n",
              "      border-top-color: var(--fill-color);\n",
              "    }\n",
              "    30% {\n",
              "      border-color: transparent;\n",
              "      border-left-color: var(--fill-color);\n",
              "      border-top-color: var(--fill-color);\n",
              "      border-right-color: var(--fill-color);\n",
              "    }\n",
              "    40% {\n",
              "      border-color: transparent;\n",
              "      border-right-color: var(--fill-color);\n",
              "      border-top-color: var(--fill-color);\n",
              "    }\n",
              "    60% {\n",
              "      border-color: transparent;\n",
              "      border-right-color: var(--fill-color);\n",
              "    }\n",
              "    80% {\n",
              "      border-color: transparent;\n",
              "      border-right-color: var(--fill-color);\n",
              "      border-bottom-color: var(--fill-color);\n",
              "    }\n",
              "    90% {\n",
              "      border-color: transparent;\n",
              "      border-bottom-color: var(--fill-color);\n",
              "    }\n",
              "  }\n",
              "</style>\n",
              "\n",
              "  <script>\n",
              "    async function quickchart(key) {\n",
              "      const quickchartButtonEl =\n",
              "        document.querySelector('#' + key + ' button');\n",
              "      quickchartButtonEl.disabled = true;  // To prevent multiple clicks.\n",
              "      quickchartButtonEl.classList.add('colab-df-spinner');\n",
              "      try {\n",
              "        const charts = await google.colab.kernel.invokeFunction(\n",
              "            'suggestCharts', [key], {});\n",
              "      } catch (error) {\n",
              "        console.error('Error during call to suggestCharts:', error);\n",
              "      }\n",
              "      quickchartButtonEl.classList.remove('colab-df-spinner');\n",
              "      quickchartButtonEl.classList.add('colab-df-quickchart-complete');\n",
              "    }\n",
              "    (() => {\n",
              "      let quickchartButtonEl =\n",
              "        document.querySelector('#df-86d6160e-dd97-4e72-b0a7-b85b046e8227 button');\n",
              "      quickchartButtonEl.style.display =\n",
              "        google.colab.kernel.accessAllowed ? 'block' : 'none';\n",
              "    })();\n",
              "  </script>\n",
              "</div>\n",
              "\n",
              "    </div>\n",
              "  </div>\n"
            ],
            "application/vnd.google.colaboratory.intrinsic+json": {
              "type": "dataframe",
              "summary": "{\n  \"name\": \"custo_diaria\",\n  \"rows\": 8,\n  \"fields\": [\n    {\n      \"column\": \"qtd_pessoas\",\n      \"properties\": {\n        \"dtype\": \"number\",\n        \"std\": 8.915672650294288,\n        \"min\": 1.0,\n        \"max\": 30.0,\n        \"num_unique_values\": 8,\n        \"samples\": [\n          14.4,\n          14.0,\n          10.0\n        ],\n        \"semantic_type\": \"\",\n        \"description\": \"\"\n      }\n    },\n    {\n      \"column\": \"valor_diaria\",\n      \"properties\": {\n        \"dtype\": \"number\",\n        \"std\": 575.7318464747591,\n        \"min\": 10.0,\n        \"max\": 1850.0,\n        \"num_unique_values\": 8,\n        \"samples\": [\n          872.2,\n          797.0,\n          10.0\n        ],\n        \"semantic_type\": \"\",\n        \"description\": \"\"\n      }\n    }\n  ]\n}"
            }
          },
          "metadata": {},
          "execution_count": 10
        }
      ]
    },
    {
      "cell_type": "code",
      "source": [
        "# Verificando se existe algum valor nulo ou ausente;\n",
        "custo_diaria.isna().sum()"
      ],
      "metadata": {
        "colab": {
          "base_uri": "https://localhost:8080/"
        },
        "id": "7DYL5-xxQhrc",
        "outputId": "1b4df205-441a-409a-baea-9f9ea45a5de1"
      },
      "execution_count": null,
      "outputs": [
        {
          "output_type": "execute_result",
          "data": {
            "text/plain": [
              "qtd_pessoas     0\n",
              "valor_diaria    0\n",
              "dtype: int64"
            ]
          },
          "metadata": {},
          "execution_count": 11
        }
      ]
    },
    {
      "cell_type": "code",
      "source": [
        "# Verificando as informações da base de dados;\n",
        "custo_diaria.info()"
      ],
      "metadata": {
        "colab": {
          "base_uri": "https://localhost:8080/"
        },
        "id": "dSdf-wkzQ-Zk",
        "outputId": "84777943-e22a-4bcf-c8d9-b75ffd3a7d1f"
      },
      "execution_count": null,
      "outputs": [
        {
          "output_type": "stream",
          "name": "stdout",
          "text": [
            "<class 'pandas.core.frame.DataFrame'>\n",
            "RangeIndex: 10 entries, 0 to 9\n",
            "Data columns (total 2 columns):\n",
            " #   Column        Non-Null Count  Dtype\n",
            "---  ------        --------------  -----\n",
            " 0   qtd_pessoas   10 non-null     int64\n",
            " 1   valor_diaria  10 non-null     int64\n",
            "dtypes: int64(2)\n",
            "memory usage: 288.0 bytes\n"
          ]
        }
      ]
    },
    {
      "cell_type": "markdown",
      "source": [
        "## Análise correlação entre as variáveis"
      ],
      "metadata": {
        "id": "LK0r7DH4lMxG"
      }
    },
    {
      "cell_type": "markdown",
      "source": [
        "\n",
        "\n",
        "*   Correlação positiva: quando duas variáveis que possem correlação crescem ou descrescem juntas, ou seja, possuem uma relação direta.\n",
        "*   Correlação negativa: quando duas variáveis possem correlação mas quando uma cresce a outra descresce, ou vice-versa.\n",
        "\n"
      ],
      "metadata": {
        "id": "DyLUFohjlTCs"
      }
    },
    {
      "cell_type": "code",
      "source": [
        "custo_diaria.corr()"
      ],
      "metadata": {
        "colab": {
          "base_uri": "https://localhost:8080/",
          "height": 112
        },
        "id": "nK82a7CZlRNP",
        "outputId": "a7953b66-3c8d-4cba-b1a5-24dea9bb80e4"
      },
      "execution_count": null,
      "outputs": [
        {
          "output_type": "execute_result",
          "data": {
            "text/plain": [
              "              qtd_pessoas  valor_diaria\n",
              "qtd_pessoas      1.000000      0.980798\n",
              "valor_diaria     0.980798      1.000000"
            ],
            "text/html": [
              "\n",
              "  <div id=\"df-88c86a4e-31d4-4ba9-9e3f-8206e6937178\" class=\"colab-df-container\">\n",
              "    <div>\n",
              "<style scoped>\n",
              "    .dataframe tbody tr th:only-of-type {\n",
              "        vertical-align: middle;\n",
              "    }\n",
              "\n",
              "    .dataframe tbody tr th {\n",
              "        vertical-align: top;\n",
              "    }\n",
              "\n",
              "    .dataframe thead th {\n",
              "        text-align: right;\n",
              "    }\n",
              "</style>\n",
              "<table border=\"1\" class=\"dataframe\">\n",
              "  <thead>\n",
              "    <tr style=\"text-align: right;\">\n",
              "      <th></th>\n",
              "      <th>qtd_pessoas</th>\n",
              "      <th>valor_diaria</th>\n",
              "    </tr>\n",
              "  </thead>\n",
              "  <tbody>\n",
              "    <tr>\n",
              "      <th>qtd_pessoas</th>\n",
              "      <td>1.000000</td>\n",
              "      <td>0.980798</td>\n",
              "    </tr>\n",
              "    <tr>\n",
              "      <th>valor_diaria</th>\n",
              "      <td>0.980798</td>\n",
              "      <td>1.000000</td>\n",
              "    </tr>\n",
              "  </tbody>\n",
              "</table>\n",
              "</div>\n",
              "    <div class=\"colab-df-buttons\">\n",
              "\n",
              "  <div class=\"colab-df-container\">\n",
              "    <button class=\"colab-df-convert\" onclick=\"convertToInteractive('df-88c86a4e-31d4-4ba9-9e3f-8206e6937178')\"\n",
              "            title=\"Convert this dataframe to an interactive table.\"\n",
              "            style=\"display:none;\">\n",
              "\n",
              "  <svg xmlns=\"http://www.w3.org/2000/svg\" height=\"24px\" viewBox=\"0 -960 960 960\">\n",
              "    <path d=\"M120-120v-720h720v720H120Zm60-500h600v-160H180v160Zm220 220h160v-160H400v160Zm0 220h160v-160H400v160ZM180-400h160v-160H180v160Zm440 0h160v-160H620v160ZM180-180h160v-160H180v160Zm440 0h160v-160H620v160Z\"/>\n",
              "  </svg>\n",
              "    </button>\n",
              "\n",
              "  <style>\n",
              "    .colab-df-container {\n",
              "      display:flex;\n",
              "      gap: 12px;\n",
              "    }\n",
              "\n",
              "    .colab-df-convert {\n",
              "      background-color: #E8F0FE;\n",
              "      border: none;\n",
              "      border-radius: 50%;\n",
              "      cursor: pointer;\n",
              "      display: none;\n",
              "      fill: #1967D2;\n",
              "      height: 32px;\n",
              "      padding: 0 0 0 0;\n",
              "      width: 32px;\n",
              "    }\n",
              "\n",
              "    .colab-df-convert:hover {\n",
              "      background-color: #E2EBFA;\n",
              "      box-shadow: 0px 1px 2px rgba(60, 64, 67, 0.3), 0px 1px 3px 1px rgba(60, 64, 67, 0.15);\n",
              "      fill: #174EA6;\n",
              "    }\n",
              "\n",
              "    .colab-df-buttons div {\n",
              "      margin-bottom: 4px;\n",
              "    }\n",
              "\n",
              "    [theme=dark] .colab-df-convert {\n",
              "      background-color: #3B4455;\n",
              "      fill: #D2E3FC;\n",
              "    }\n",
              "\n",
              "    [theme=dark] .colab-df-convert:hover {\n",
              "      background-color: #434B5C;\n",
              "      box-shadow: 0px 1px 3px 1px rgba(0, 0, 0, 0.15);\n",
              "      filter: drop-shadow(0px 1px 2px rgba(0, 0, 0, 0.3));\n",
              "      fill: #FFFFFF;\n",
              "    }\n",
              "  </style>\n",
              "\n",
              "    <script>\n",
              "      const buttonEl =\n",
              "        document.querySelector('#df-88c86a4e-31d4-4ba9-9e3f-8206e6937178 button.colab-df-convert');\n",
              "      buttonEl.style.display =\n",
              "        google.colab.kernel.accessAllowed ? 'block' : 'none';\n",
              "\n",
              "      async function convertToInteractive(key) {\n",
              "        const element = document.querySelector('#df-88c86a4e-31d4-4ba9-9e3f-8206e6937178');\n",
              "        const dataTable =\n",
              "          await google.colab.kernel.invokeFunction('convertToInteractive',\n",
              "                                                    [key], {});\n",
              "        if (!dataTable) return;\n",
              "\n",
              "        const docLinkHtml = 'Like what you see? Visit the ' +\n",
              "          '<a target=\"_blank\" href=https://colab.research.google.com/notebooks/data_table.ipynb>data table notebook</a>'\n",
              "          + ' to learn more about interactive tables.';\n",
              "        element.innerHTML = '';\n",
              "        dataTable['output_type'] = 'display_data';\n",
              "        await google.colab.output.renderOutput(dataTable, element);\n",
              "        const docLink = document.createElement('div');\n",
              "        docLink.innerHTML = docLinkHtml;\n",
              "        element.appendChild(docLink);\n",
              "      }\n",
              "    </script>\n",
              "  </div>\n",
              "\n",
              "\n",
              "<div id=\"df-fa66d0ff-a9b0-46b1-a770-350cf2c60118\">\n",
              "  <button class=\"colab-df-quickchart\" onclick=\"quickchart('df-fa66d0ff-a9b0-46b1-a770-350cf2c60118')\"\n",
              "            title=\"Suggest charts\"\n",
              "            style=\"display:none;\">\n",
              "\n",
              "<svg xmlns=\"http://www.w3.org/2000/svg\" height=\"24px\"viewBox=\"0 0 24 24\"\n",
              "     width=\"24px\">\n",
              "    <g>\n",
              "        <path d=\"M19 3H5c-1.1 0-2 .9-2 2v14c0 1.1.9 2 2 2h14c1.1 0 2-.9 2-2V5c0-1.1-.9-2-2-2zM9 17H7v-7h2v7zm4 0h-2V7h2v10zm4 0h-2v-4h2v4z\"/>\n",
              "    </g>\n",
              "</svg>\n",
              "  </button>\n",
              "\n",
              "<style>\n",
              "  .colab-df-quickchart {\n",
              "      --bg-color: #E8F0FE;\n",
              "      --fill-color: #1967D2;\n",
              "      --hover-bg-color: #E2EBFA;\n",
              "      --hover-fill-color: #174EA6;\n",
              "      --disabled-fill-color: #AAA;\n",
              "      --disabled-bg-color: #DDD;\n",
              "  }\n",
              "\n",
              "  [theme=dark] .colab-df-quickchart {\n",
              "      --bg-color: #3B4455;\n",
              "      --fill-color: #D2E3FC;\n",
              "      --hover-bg-color: #434B5C;\n",
              "      --hover-fill-color: #FFFFFF;\n",
              "      --disabled-bg-color: #3B4455;\n",
              "      --disabled-fill-color: #666;\n",
              "  }\n",
              "\n",
              "  .colab-df-quickchart {\n",
              "    background-color: var(--bg-color);\n",
              "    border: none;\n",
              "    border-radius: 50%;\n",
              "    cursor: pointer;\n",
              "    display: none;\n",
              "    fill: var(--fill-color);\n",
              "    height: 32px;\n",
              "    padding: 0;\n",
              "    width: 32px;\n",
              "  }\n",
              "\n",
              "  .colab-df-quickchart:hover {\n",
              "    background-color: var(--hover-bg-color);\n",
              "    box-shadow: 0 1px 2px rgba(60, 64, 67, 0.3), 0 1px 3px 1px rgba(60, 64, 67, 0.15);\n",
              "    fill: var(--button-hover-fill-color);\n",
              "  }\n",
              "\n",
              "  .colab-df-quickchart-complete:disabled,\n",
              "  .colab-df-quickchart-complete:disabled:hover {\n",
              "    background-color: var(--disabled-bg-color);\n",
              "    fill: var(--disabled-fill-color);\n",
              "    box-shadow: none;\n",
              "  }\n",
              "\n",
              "  .colab-df-spinner {\n",
              "    border: 2px solid var(--fill-color);\n",
              "    border-color: transparent;\n",
              "    border-bottom-color: var(--fill-color);\n",
              "    animation:\n",
              "      spin 1s steps(1) infinite;\n",
              "  }\n",
              "\n",
              "  @keyframes spin {\n",
              "    0% {\n",
              "      border-color: transparent;\n",
              "      border-bottom-color: var(--fill-color);\n",
              "      border-left-color: var(--fill-color);\n",
              "    }\n",
              "    20% {\n",
              "      border-color: transparent;\n",
              "      border-left-color: var(--fill-color);\n",
              "      border-top-color: var(--fill-color);\n",
              "    }\n",
              "    30% {\n",
              "      border-color: transparent;\n",
              "      border-left-color: var(--fill-color);\n",
              "      border-top-color: var(--fill-color);\n",
              "      border-right-color: var(--fill-color);\n",
              "    }\n",
              "    40% {\n",
              "      border-color: transparent;\n",
              "      border-right-color: var(--fill-color);\n",
              "      border-top-color: var(--fill-color);\n",
              "    }\n",
              "    60% {\n",
              "      border-color: transparent;\n",
              "      border-right-color: var(--fill-color);\n",
              "    }\n",
              "    80% {\n",
              "      border-color: transparent;\n",
              "      border-right-color: var(--fill-color);\n",
              "      border-bottom-color: var(--fill-color);\n",
              "    }\n",
              "    90% {\n",
              "      border-color: transparent;\n",
              "      border-bottom-color: var(--fill-color);\n",
              "    }\n",
              "  }\n",
              "</style>\n",
              "\n",
              "  <script>\n",
              "    async function quickchart(key) {\n",
              "      const quickchartButtonEl =\n",
              "        document.querySelector('#' + key + ' button');\n",
              "      quickchartButtonEl.disabled = true;  // To prevent multiple clicks.\n",
              "      quickchartButtonEl.classList.add('colab-df-spinner');\n",
              "      try {\n",
              "        const charts = await google.colab.kernel.invokeFunction(\n",
              "            'suggestCharts', [key], {});\n",
              "      } catch (error) {\n",
              "        console.error('Error during call to suggestCharts:', error);\n",
              "      }\n",
              "      quickchartButtonEl.classList.remove('colab-df-spinner');\n",
              "      quickchartButtonEl.classList.add('colab-df-quickchart-complete');\n",
              "    }\n",
              "    (() => {\n",
              "      let quickchartButtonEl =\n",
              "        document.querySelector('#df-fa66d0ff-a9b0-46b1-a770-350cf2c60118 button');\n",
              "      quickchartButtonEl.style.display =\n",
              "        google.colab.kernel.accessAllowed ? 'block' : 'none';\n",
              "    })();\n",
              "  </script>\n",
              "</div>\n",
              "\n",
              "    </div>\n",
              "  </div>\n"
            ],
            "application/vnd.google.colaboratory.intrinsic+json": {
              "type": "dataframe",
              "summary": "{\n  \"name\": \"custo_diaria\",\n  \"rows\": 2,\n  \"fields\": [\n    {\n      \"column\": \"qtd_pessoas\",\n      \"properties\": {\n        \"dtype\": \"number\",\n        \"std\": 0.013577725783395198,\n        \"min\": 0.9807981960509397,\n        \"max\": 1.0,\n        \"num_unique_values\": 2,\n        \"samples\": [\n          0.9807981960509397,\n          1.0\n        ],\n        \"semantic_type\": \"\",\n        \"description\": \"\"\n      }\n    },\n    {\n      \"column\": \"valor_diaria\",\n      \"properties\": {\n        \"dtype\": \"number\",\n        \"std\": 0.013577725783395198,\n        \"min\": 0.9807981960509397,\n        \"max\": 1.0,\n        \"num_unique_values\": 2,\n        \"samples\": [\n          1.0,\n          0.9807981960509397\n        ],\n        \"semantic_type\": \"\",\n        \"description\": \"\"\n      }\n    }\n  ]\n}"
            }
          },
          "metadata": {},
          "execution_count": 14
        }
      ]
    },
    {
      "cell_type": "markdown",
      "source": [
        "## Análise gráfica da correlação entre as variáveis"
      ],
      "metadata": {
        "id": "aZB3vo9VnVwj"
      }
    },
    {
      "cell_type": "code",
      "source": [
        "correlacao = custo_diaria.corr()\n",
        "sns.heatmap(correlacao, annot=True)"
      ],
      "metadata": {
        "colab": {
          "base_uri": "https://localhost:8080/",
          "height": 452
        },
        "id": "xqOZrGACndzx",
        "outputId": "1a593fea-4993-41b8-d6f1-9b66d1b37683"
      },
      "execution_count": null,
      "outputs": [
        {
          "output_type": "execute_result",
          "data": {
            "text/plain": [
              "<Axes: >"
            ]
          },
          "metadata": {},
          "execution_count": 15
        },
        {
          "output_type": "display_data",
          "data": {
            "text/plain": [
              "<Figure size 640x480 with 2 Axes>"
            ],
            "image/png": "[encoded data removed]"
          },
          "metadata": {}
        }
      ]
    },
    {
      "cell_type": "markdown",
      "source": [
        "## Tratamento de dados"
      ],
      "metadata": {
        "id": "5BwxWiWfoKLy"
      }
    },
    {
      "cell_type": "markdown",
      "source": [
        "Nesta etapa, vamos preparar os dados para serem usados no modelo de Regressão Linear. Essa transformação deve ser realizada para que os dados possam ter o formato que o algortimo solicita como entrada."
      ],
      "metadata": {
        "id": "VF4gTnp5oP-C"
      }
    },
    {
      "cell_type": "markdown",
      "source": [
        "### Criando variável independente - X"
      ],
      "metadata": {
        "id": "oDhAtR0eos_y"
      }
    },
    {
      "cell_type": "markdown",
      "source": [
        "Coletamos todos os registros da primeira coluna e convertemos no formato de array."
      ],
      "metadata": {
        "id": "v87dayuwpDCp"
      }
    },
    {
      "cell_type": "code",
      "source": [
        "X = custo_diaria.iloc[:,0].values\n",
        "print(X)"
      ],
      "metadata": {
        "colab": {
          "base_uri": "https://localhost:8080/"
        },
        "id": "WRVVe6_xoM2h",
        "outputId": "4a73b933-dd8e-459a-b144-d3e674441bde"
      },
      "execution_count": null,
      "outputs": [
        {
          "output_type": "stream",
          "name": "stdout",
          "text": [
            "[ 1  4  6 10 13 15 18 22 25 30]\n"
          ]
        }
      ]
    },
    {
      "cell_type": "markdown",
      "source": [
        "A fnção iloc permite selecionar um conjunto de registros. Os dois pontos \":\" significa que selecionamos todos os registros e o zero \"0\" primeira coluna"
      ],
      "metadata": {
        "id": "ZxRfq0Kapa7q"
      }
    },
    {
      "cell_type": "markdown",
      "source": [
        "Criando variável dependente - Y (O que queremos prever)"
      ],
      "metadata": {
        "id": "wxg2fBNlqBF5"
      }
    },
    {
      "cell_type": "code",
      "source": [
        "Y = custo_diaria.iloc[:,1].values\n",
        "print(Y)"
      ],
      "metadata": {
        "colab": {
          "base_uri": "https://localhost:8080/"
        },
        "id": "rDnbV3Fxp8bG",
        "outputId": "a2716325-3a17-4afb-f93b-184654cf557b"
      },
      "execution_count": null,
      "outputs": [
        {
          "output_type": "stream",
          "name": "stdout",
          "text": [
            "[ 150  385  499  680  735  859  989 1075 1500 1850]\n"
          ]
        }
      ]
    },
    {
      "cell_type": "markdown",
      "source": [
        "### Verificando os tipos das variáveis"
      ],
      "metadata": {
        "id": "xocyuJlFqnDT"
      }
    },
    {
      "cell_type": "code",
      "source": [
        "type(X)"
      ],
      "metadata": {
        "colab": {
          "base_uri": "https://localhost:8080/"
        },
        "id": "S7ZjCO3cqqde",
        "outputId": "068f9f22-63e7-4385-feec-c78a08962eb3"
      },
      "execution_count": null,
      "outputs": [
        {
          "output_type": "execute_result",
          "data": {
            "text/plain": [
              "numpy.ndarray"
            ]
          },
          "metadata": {},
          "execution_count": 20
        }
      ]
    },
    {
      "cell_type": "code",
      "source": [
        "type(Y)"
      ],
      "metadata": {
        "colab": {
          "base_uri": "https://localhost:8080/"
        },
        "id": "Dqcip64tqyYI",
        "outputId": "51253953-a9fd-4264-fd02-cc15f6a4ed01"
      },
      "execution_count": null,
      "outputs": [
        {
          "output_type": "execute_result",
          "data": {
            "text/plain": [
              "numpy.ndarray"
            ]
          },
          "metadata": {},
          "execution_count": 21
        }
      ]
    },
    {
      "cell_type": "code",
      "source": [
        "X.shape"
      ],
      "metadata": {
        "colab": {
          "base_uri": "https://localhost:8080/"
        },
        "id": "b8cpeZB5q2Tn",
        "outputId": "fd3adc68-cfc0-4b05-fb84-5b07aeec4612"
      },
      "execution_count": null,
      "outputs": [
        {
          "output_type": "execute_result",
          "data": {
            "text/plain": [
              "(10,)"
            ]
          },
          "metadata": {},
          "execution_count": 23
        }
      ]
    },
    {
      "cell_type": "markdown",
      "source": [
        "### Transformando array em matriz"
      ],
      "metadata": {
        "id": "8z3aw5S3rOzj"
      }
    },
    {
      "cell_type": "code",
      "source": [
        "X = X.reshape(-1,1)"
      ],
      "metadata": {
        "id": "b7bqtKJ1rR0e"
      },
      "execution_count": null,
      "outputs": []
    },
    {
      "cell_type": "code",
      "source": [
        "X.shape"
      ],
      "metadata": {
        "colab": {
          "base_uri": "https://localhost:8080/"
        },
        "id": "OjZxR_Barlgq",
        "outputId": "7e05ebdd-8eb3-4f39-e058-17ed02e932bf"
      },
      "execution_count": null,
      "outputs": [
        {
          "output_type": "execute_result",
          "data": {
            "text/plain": [
              "(10, 1)"
            ]
          },
          "metadata": {},
          "execution_count": 26
        }
      ]
    },
    {
      "cell_type": "markdown",
      "source": [
        "## Criando modelo de Machine Learn - Regressão Linear"
      ],
      "metadata": {
        "id": "1x0Hy3mTrqcg"
      }
    },
    {
      "cell_type": "code",
      "source": [
        "from sklearn.linear_model import LinearRegression\n",
        "predicao_custo_diaria = LinearRegression()"
      ],
      "metadata": {
        "id": "HlR87Ibkrx7j"
      },
      "execution_count": null,
      "outputs": []
    },
    {
      "cell_type": "code",
      "source": [
        "type(predicao_custo_diaria)"
      ],
      "metadata": {
        "colab": {
          "base_uri": "https://localhost:8080/",
          "height": 187
        },
        "id": "JAuwqPDKsxrY",
        "outputId": "b8ff8154-8a83-44ae-f5be-bef12ba2fe73"
      },
      "execution_count": null,
      "outputs": [
        {
          "output_type": "execute_result",
          "data": {
            "text/plain": [
              "sklearn.linear_model._base.LinearRegression"
            ],
            "text/html": [
              "<div style=\"max-width:800px; border: 1px solid var(--colab-border-color);\"><style>\n",
              "      pre.function-repr-contents {\n",
              "        overflow-x: auto;\n",
              "        padding: 8px 12px;\n",
              "        max-height: 500px;\n",
              "      }\n",
              "\n",
              "      pre.function-repr-contents.function-repr-contents-collapsed {\n",
              "        cursor: pointer;\n",
              "        max-height: 100px;\n",
              "      }\n",
              "    </style>\n",
              "    <pre style=\"white-space: initial; background:\n",
              "         var(--colab-secondary-surface-color); padding: 8px 12px;\n",
              "         border-bottom: 1px solid var(--colab-border-color);\"><b>sklearn.linear_model._base.LinearRegression</b><br/>def __init__(*, fit_intercept=True, copy_X=True, n_jobs=None, positive=False)</pre><pre class=\"function-repr-contents function-repr-contents-collapsed\" style=\"\"><a class=\"filepath\" style=\"display:none\" href=\"#\">/usr/local/lib/python3.10/dist-packages/sklearn/linear_model/_base.py</a>Ordinary least squares Linear Regression.\n",
              "\n",
              "LinearRegression fits a linear model with coefficients w = (w1, ..., wp)\n",
              "to minimize the residual sum of squares between the observed targets in\n",
              "the dataset, and the targets predicted by the linear approximation.\n",
              "\n",
              "Parameters\n",
              "----------\n",
              "fit_intercept : bool, default=True\n",
              "    Whether to calculate the intercept for this model. If set\n",
              "    to False, no intercept will be used in calculations\n",
              "    (i.e. data is expected to be centered).\n",
              "\n",
              "copy_X : bool, default=True\n",
              "    If True, X will be copied; else, it may be overwritten.\n",
              "\n",
              "n_jobs : int, default=None\n",
              "    The number of jobs to use for the computation. This will only provide\n",
              "    speedup in case of sufficiently large problems, that is if firstly\n",
              "    `n_targets &gt; 1` and secondly `X` is sparse or if `positive` is set\n",
              "    to `True`. ``None`` means 1 unless in a\n",
              "    :obj:`joblib.parallel_backend` context. ``-1`` means using all\n",
              "    processors. See :term:`Glossary &lt;n_jobs&gt;` for more details.\n",
              "\n",
              "positive : bool, default=False\n",
              "    When set to ``True``, forces the coefficients to be positive. This\n",
              "    option is only supported for dense arrays.\n",
              "\n",
              "    .. versionadded:: 0.24\n",
              "\n",
              "Attributes\n",
              "----------\n",
              "coef_ : array of shape (n_features, ) or (n_targets, n_features)\n",
              "    Estimated coefficients for the linear regression problem.\n",
              "    If multiple targets are passed during the fit (y 2D), this\n",
              "    is a 2D array of shape (n_targets, n_features), while if only\n",
              "    one target is passed, this is a 1D array of length n_features.\n",
              "\n",
              "rank_ : int\n",
              "    Rank of matrix `X`. Only available when `X` is dense.\n",
              "\n",
              "singular_ : array of shape (min(X, y),)\n",
              "    Singular values of `X`. Only available when `X` is dense.\n",
              "\n",
              "intercept_ : float or array of shape (n_targets,)\n",
              "    Independent term in the linear model. Set to 0.0 if\n",
              "    `fit_intercept = False`.\n",
              "\n",
              "n_features_in_ : int\n",
              "    Number of features seen during :term:`fit`.\n",
              "\n",
              "    .. versionadded:: 0.24\n",
              "\n",
              "feature_names_in_ : ndarray of shape (`n_features_in_`,)\n",
              "    Names of features seen during :term:`fit`. Defined only when `X`\n",
              "    has feature names that are all strings.\n",
              "\n",
              "    .. versionadded:: 1.0\n",
              "\n",
              "See Also\n",
              "--------\n",
              "Ridge : Ridge regression addresses some of the\n",
              "    problems of Ordinary Least Squares by imposing a penalty on the\n",
              "    size of the coefficients with l2 regularization.\n",
              "Lasso : The Lasso is a linear model that estimates\n",
              "    sparse coefficients with l1 regularization.\n",
              "ElasticNet : Elastic-Net is a linear regression\n",
              "    model trained with both l1 and l2 -norm regularization of the\n",
              "    coefficients.\n",
              "\n",
              "Notes\n",
              "-----\n",
              "From the implementation point of view, this is just plain Ordinary\n",
              "Least Squares (scipy.linalg.lstsq) or Non Negative Least Squares\n",
              "(scipy.optimize.nnls) wrapped as a predictor object.\n",
              "\n",
              "Examples\n",
              "--------\n",
              "&gt;&gt;&gt; import numpy as np\n",
              "&gt;&gt;&gt; from sklearn.linear_model import LinearRegression\n",
              "&gt;&gt;&gt; X = np.array([[1, 1], [1, 2], [2, 2], [2, 3]])\n",
              "&gt;&gt;&gt; # y = 1 * x_0 + 2 * x_1 + 3\n",
              "&gt;&gt;&gt; y = np.dot(X, np.array([1, 2])) + 3\n",
              "&gt;&gt;&gt; reg = LinearRegression().fit(X, y)\n",
              "&gt;&gt;&gt; reg.score(X, y)\n",
              "1.0\n",
              "&gt;&gt;&gt; reg.coef_\n",
              "array([1., 2.])\n",
              "&gt;&gt;&gt; reg.intercept_\n",
              "3.0...\n",
              "&gt;&gt;&gt; reg.predict(np.array([[3, 5]]))\n",
              "array([16.])</pre>\n",
              "      <script>\n",
              "      if (google.colab.kernel.accessAllowed && google.colab.files && google.colab.files.view) {\n",
              "        for (const element of document.querySelectorAll('.filepath')) {\n",
              "          element.style.display = 'block'\n",
              "          element.onclick = (event) => {\n",
              "            event.preventDefault();\n",
              "            event.stopPropagation();\n",
              "            google.colab.files.view(element.textContent, 502);\n",
              "          };\n",
              "        }\n",
              "      }\n",
              "      for (const element of document.querySelectorAll('.function-repr-contents')) {\n",
              "        element.onclick = (event) => {\n",
              "          event.preventDefault();\n",
              "          event.stopPropagation();\n",
              "          element.classList.toggle('function-repr-contents-collapsed');\n",
              "        };\n",
              "      }\n",
              "      </script>\n",
              "      </div>"
            ]
          },
          "metadata": {},
          "execution_count": 28
        }
      ]
    },
    {
      "cell_type": "markdown",
      "source": [
        "### Realizando o treinamento do modelo"
      ],
      "metadata": {
        "id": "kbkOG_dBtAJ_"
      }
    },
    {
      "cell_type": "code",
      "source": [
        "predicao_custo_diaria.fit(X,Y)"
      ],
      "metadata": {
        "colab": {
          "base_uri": "https://localhost:8080/",
          "height": 75
        },
        "id": "FvkAMFNatF3p",
        "outputId": "cb3ddde8-3b6c-4bd3-89b8-b39d7d0f3c82"
      },
      "execution_count": null,
      "outputs": [
        {
          "output_type": "execute_result",
          "data": {
            "text/plain": [
              "LinearRegression()"
            ],
            "text/html": [
              "<style>#sk-container-id-1 {color: black;background-color: white;}#sk-container-id-1 pre{padding: 0;}#sk-container-id-1 div.sk-toggleable {background-color: white;}#sk-container-id-1 label.sk-toggleable__label {cursor: pointer;display: block;width: 100%;margin-bottom: 0;padding: 0.3em;box-sizing: border-box;text-align: center;}#sk-container-id-1 label.sk-toggleable__label-arrow:before {content: \"▸\";float: left;margin-right: 0.25em;color: #696969;}#sk-container-id-1 label.sk-toggleable__label-arrow:hover:before {color: black;}#sk-container-id-1 div.sk-estimator:hover label.sk-toggleable__label-arrow:before {color: black;}#sk-container-id-1 div.sk-toggleable__content {max-height: 0;max-width: 0;overflow: hidden;text-align: left;background-color: #f0f8ff;}#sk-container-id-1 div.sk-toggleable__content pre {margin: 0.2em;color: black;border-radius: 0.25em;background-color: #f0f8ff;}#sk-container-id-1 input.sk-toggleable__control:checked~div.sk-toggleable__content {max-height: 200px;max-width: 100%;overflow: auto;}#sk-container-id-1 input.sk-toggleable__control:checked~label.sk-toggleable__label-arrow:before {content: \"▾\";}#sk-container-id-1 div.sk-estimator input.sk-toggleable__control:checked~label.sk-toggleable__label {background-color: #d4ebff;}#sk-container-id-1 div.sk-label input.sk-toggleable__control:checked~label.sk-toggleable__label {background-color: #d4ebff;}#sk-container-id-1 input.sk-hidden--visually {border: 0;clip: rect(1px 1px 1px 1px);clip: rect(1px, 1px, 1px, 1px);height: 1px;margin: -1px;overflow: hidden;padding: 0;position: absolute;width: 1px;}#sk-container-id-1 div.sk-estimator {font-family: monospace;background-color: #f0f8ff;border: 1px dotted black;border-radius: 0.25em;box-sizing: border-box;margin-bottom: 0.5em;}#sk-container-id-1 div.sk-estimator:hover {background-color: #d4ebff;}#sk-container-id-1 div.sk-parallel-item::after {content: \"\";width: 100%;border-bottom: 1px solid gray;flex-grow: 1;}#sk-container-id-1 div.sk-label:hover label.sk-toggleable__label {background-color: #d4ebff;}#sk-container-id-1 div.sk-serial::before {content: \"\";position: absolute;border-left: 1px solid gray;box-sizing: border-box;top: 0;bottom: 0;left: 50%;z-index: 0;}#sk-container-id-1 div.sk-serial {display: flex;flex-direction: column;align-items: center;background-color: white;padding-right: 0.2em;padding-left: 0.2em;position: relative;}#sk-container-id-1 div.sk-item {position: relative;z-index: 1;}#sk-container-id-1 div.sk-parallel {display: flex;align-items: stretch;justify-content: center;background-color: white;position: relative;}#sk-container-id-1 div.sk-item::before, #sk-container-id-1 div.sk-parallel-item::before {content: \"\";position: absolute;border-left: 1px solid gray;box-sizing: border-box;top: 0;bottom: 0;left: 50%;z-index: -1;}#sk-container-id-1 div.sk-parallel-item {display: flex;flex-direction: column;z-index: 1;position: relative;background-color: white;}#sk-container-id-1 div.sk-parallel-item:first-child::after {align-self: flex-end;width: 50%;}#sk-container-id-1 div.sk-parallel-item:last-child::after {align-self: flex-start;width: 50%;}#sk-container-id-1 div.sk-parallel-item:only-child::after {width: 0;}#sk-container-id-1 div.sk-dashed-wrapped {border: 1px dashed gray;margin: 0 0.4em 0.5em 0.4em;box-sizing: border-box;padding-bottom: 0.4em;background-color: white;}#sk-container-id-1 div.sk-label label {font-family: monospace;font-weight: bold;display: inline-block;line-height: 1.2em;}#sk-container-id-1 div.sk-label-container {text-align: center;}#sk-container-id-1 div.sk-container {/* jupyter's `normalize.less` sets `[hidden] { display: none; }` but bootstrap.min.css set `[hidden] { display: none !important; }` so we also need the `!important` here to be able to override the default hidden behavior on the sphinx rendered scikit-learn.org. See: https://github.com/scikit-learn/scikit-learn/issues/21755 */display: inline-block !important;position: relative;}#sk-container-id-1 div.sk-text-repr-fallback {display: none;}</style><div id=\"sk-container-id-1\" class=\"sk-top-container\"><div class=\"sk-text-repr-fallback\"><pre>LinearRegression()</pre><b>In a Jupyter environment, please rerun this cell to show the HTML representation or trust the notebook. <br />On GitHub, the HTML representation is unable to render, please try loading this page with nbviewer.org.</b></div><div class=\"sk-container\" hidden><div class=\"sk-item\"><div class=\"sk-estimator sk-toggleable\"><input class=\"sk-toggleable__control sk-hidden--visually\" id=\"sk-estimator-id-1\" type=\"checkbox\" checked><label for=\"sk-estimator-id-1\" class=\"sk-toggleable__label sk-toggleable__label-arrow\">LinearRegression</label><div class=\"sk-toggleable__content\"><pre>LinearRegression()</pre></div></div></div></div></div>"
            ]
          },
          "metadata": {},
          "execution_count": 29
        }
      ]
    },
    {
      "cell_type": "markdown",
      "source": [
        "### Calculando a constante Alfa - Intercept"
      ],
      "metadata": {
        "id": "uwyyX3XMtY1n"
      }
    },
    {
      "cell_type": "code",
      "source": [
        "predicao_custo_diaria.intercept_"
      ],
      "metadata": {
        "colab": {
          "base_uri": "https://localhost:8080/"
        },
        "id": "1K6B0UM7trze",
        "outputId": "a2e95a4a-5061-48e9-b883-3c51fd0037e9"
      },
      "execution_count": null,
      "outputs": [
        {
          "output_type": "execute_result",
          "data": {
            "text/plain": [
              "108.2857142857141"
            ]
          },
          "metadata": {},
          "execution_count": 31
        }
      ]
    },
    {
      "cell_type": "markdown",
      "source": [
        "### Calculando o coeficiente angular - Coef"
      ],
      "metadata": {
        "id": "ZfQNtQ9AthS2"
      }
    },
    {
      "cell_type": "code",
      "source": [
        "predicao_custo_diaria.coef_"
      ],
      "metadata": {
        "colab": {
          "base_uri": "https://localhost:8080/"
        },
        "id": "aV952T1Pt-GX",
        "outputId": "0b882e3f-8330-4f61-d006-26dda715ea7a"
      },
      "execution_count": null,
      "outputs": [
        {
          "output_type": "execute_result",
          "data": {
            "text/plain": [
              "array([53.04960317])"
            ]
          },
          "metadata": {},
          "execution_count": 32
        }
      ]
    },
    {
      "cell_type": "markdown",
      "source": [
        "### Realizando a predição dos valores das diárias"
      ],
      "metadata": {
        "id": "VGsdsTV2ugXV"
      }
    },
    {
      "cell_type": "markdown",
      "source": [
        "Baseado no número de pessoas, vamos estimar/prever o custo do imóvel alugado."
      ],
      "metadata": {
        "id": "Kwx4Dh9Kur8_"
      }
    },
    {
      "cell_type": "code",
      "source": [
        "previsao_valores = predicao_custo_diaria.predict(X)"
      ],
      "metadata": {
        "id": "IObXxiq3tq6T"
      },
      "execution_count": null,
      "outputs": []
    },
    {
      "cell_type": "code",
      "source": [
        "X"
      ],
      "metadata": {
        "colab": {
          "base_uri": "https://localhost:8080/"
        },
        "id": "jKzF15-NwR29",
        "outputId": "8d4b394b-863d-43a5-ba7e-9644d9730737"
      },
      "execution_count": null,
      "outputs": [
        {
          "output_type": "execute_result",
          "data": {
            "text/plain": [
              "array([[ 1],\n",
              "       [ 4],\n",
              "       [ 6],\n",
              "       [10],\n",
              "       [13],\n",
              "       [15],\n",
              "       [18],\n",
              "       [22],\n",
              "       [25],\n",
              "       [30]])"
            ]
          },
          "metadata": {},
          "execution_count": 35
        }
      ]
    },
    {
      "cell_type": "code",
      "source": [
        "# Visualização das previsões para cada n° de pessoas.\n",
        "previsao_valores"
      ],
      "metadata": {
        "colab": {
          "base_uri": "https://localhost:8080/"
        },
        "id": "neslL0kbveYP",
        "outputId": "e16fcb1e-4f25-4e65-c757-487eb19dec1e"
      },
      "execution_count": null,
      "outputs": [
        {
          "output_type": "execute_result",
          "data": {
            "text/plain": [
              "array([ 161.33531746,  320.48412698,  426.58333333,  638.78174603,\n",
              "        797.93055556,  904.0297619 , 1063.17857143, 1275.37698413,\n",
              "       1434.52579365, 1699.77380952])"
            ]
          },
          "metadata": {},
          "execution_count": 34
        }
      ]
    },
    {
      "cell_type": "markdown",
      "source": [
        "## Visalizando no gráfico as disposições dos dados"
      ],
      "metadata": {
        "id": "hx1cj6R_vrET"
      }
    },
    {
      "cell_type": "markdown",
      "source": [
        "Para visualizar os dados no gráfico, temos que transformar os valores das variáveis para o formato de vetor. Para isso utilizamos o comando ravel()."
      ],
      "metadata": {
        "id": "oXCe1FXav0ru"
      }
    },
    {
      "cell_type": "markdown",
      "source": [
        "### Gerando visualização gráfica"
      ],
      "metadata": {
        "id": "Vpr7UVdPwJEk"
      }
    },
    {
      "cell_type": "code",
      "source": [
        "# Gráfico 1 - Sem as previsões\n",
        "grafico = px.scatter(x = X.ravel(), y=Y)\n",
        "grafico.show()"
      ],
      "metadata": {
        "colab": {
          "base_uri": "https://localhost:8080/",
          "height": 542
        },
        "id": "3TAmlu6wvzqc",
        "outputId": "129febff-589d-4376-99df-d0da338b8123"
      },
      "execution_count": null,
      "outputs": [
        {
          "output_type": "display_data",
          "data": {
            "text/html": [
              "<html>\n",
              "<head><meta charset=\"utf-8\" /></head>\n",
              "<body>\n",
              "    <div>            <script src=\"https://cdnjs.cloudflare.com/ajax/libs/mathjax/2.7.5/MathJax.js?config=TeX-AMS-MML_SVG\"></script><script type=\"text/javascript\">if (window.MathJax && window.MathJax.Hub && window.MathJax.Hub.Config) {window.MathJax.Hub.Config({SVG: {font: \"STIX-Web\"}});}</script>                <script type=\"text/javascript\">window.PlotlyConfig = {MathJaxConfig: 'local'};</script>\n",
              "        <script charset=\"utf-8\" src=\"https://cdn.plot.ly/plotly-2.24.1.min.js\"></script>                <div id=\"f2eb5c7e-a16d-47a9-af09-58a4d97c457b\" class=\"plotly-graph-div\" style=\"height:525px; width:100%;\"></div>            <script type=\"text/javascript\">                                    window.PLOTLYENV=window.PLOTLYENV || {};                                    if (document.getElementById(\"f2eb5c7e-a16d-47a9-af09-58a4d97c457b\")) {                    Plotly.newPlot(                        \"f2eb5c7e-a16d-47a9-af09-58a4d97c457b\",                        [{\"hovertemplate\":\"x=%{x}\\u003cbr\\u003ey=%{y}\\u003cextra\\u003e\\u003c\\u002fextra\\u003e\",\"legendgroup\":\"\",\"marker\":{\"color\":\"#636efa\",\"symbol\":\"circle\"},\"mode\":\"markers\",\"name\":\"\",\"orientation\":\"v\",\"showlegend\":false,\"x\":[1,4,6,10,13,15,18,22,25,30],\"xaxis\":\"x\",\"y\":[150,385,499,680,735,859,989,1075,1500,1850],\"yaxis\":\"y\",\"type\":\"scatter\"}],                        {\"template\":{\"data\":{\"histogram2dcontour\":[{\"type\":\"histogram2dcontour\",\"colorbar\":{\"outlinewidth\":0,\"ticks\":\"\"},\"colorscale\":[[0.0,\"#0d0887\"],[0.1111111111111111,\"#46039f\"],[0.2222222222222222,\"#7201a8\"],[0.3333333333333333,\"#9c179e\"],[0.4444444444444444,\"#bd3786\"],[0.5555555555555556,\"#d8576b\"],[0.6666666666666666,\"#ed7953\"],[0.7777777777777778,\"#fb9f3a\"],[0.8888888888888888,\"#fdca26\"],[1.0,\"#f0f921\"]]}],\"choropleth\":[{\"type\":\"choropleth\",\"colorbar\":{\"outlinewidth\":0,\"ticks\":\"\"}}],\"histogram2d\":[{\"type\":\"histogram2d\",\"colorbar\":{\"outlinewidth\":0,\"ticks\":\"\"},\"colorscale\":[[0.0,\"#0d0887\"],[0.1111111111111111,\"#46039f\"],[0.2222222222222222,\"#7201a8\"],[0.3333333333333333,\"#9c179e\"],[0.4444444444444444,\"#bd3786\"],[0.5555555555555556,\"#d8576b\"],[0.6666666666666666,\"#ed7953\"],[0.7777777777777778,\"#fb9f3a\"],[0.8888888888888888,\"#fdca26\"],[1.0,\"#f0f921\"]]}],\"heatmap\":[{\"type\":\"heatmap\",\"colorbar\":{\"outlinewidth\":0,\"ticks\":\"\"},\"colorscale\":[[0.0,\"#0d0887\"],[0.1111111111111111,\"#46039f\"],[0.2222222222222222,\"#7201a8\"],[0.3333333333333333,\"#9c179e\"],[0.4444444444444444,\"#bd3786\"],[0.5555555555555556,\"#d8576b\"],[0.6666666666666666,\"#ed7953\"],[0.7777777777777778,\"#fb9f3a\"],[0.8888888888888888,\"#fdca26\"],[1.0,\"#f0f921\"]]}],\"heatmapgl\":[{\"type\":\"heatmapgl\",\"colorbar\":{\"outlinewidth\":0,\"ticks\":\"\"},\"colorscale\":[[0.0,\"#0d0887\"],[0.1111111111111111,\"#46039f\"],[0.2222222222222222,\"#7201a8\"],[0.3333333333333333,\"#9c179e\"],[0.4444444444444444,\"#bd3786\"],[0.5555555555555556,\"#d8576b\"],[0.6666666666666666,\"#ed7953\"],[0.7777777777777778,\"#fb9f3a\"],[0.8888888888888888,\"#fdca26\"],[1.0,\"#f0f921\"]]}],\"contourcarpet\":[{\"type\":\"contourcarpet\",\"colorbar\":{\"outlinewidth\":0,\"ticks\":\"\"}}],\"contour\":[{\"type\":\"contour\",\"colorbar\":{\"outlinewidth\":0,\"ticks\":\"\"},\"colorscale\":[[0.0,\"#0d0887\"],[0.1111111111111111,\"#46039f\"],[0.2222222222222222,\"#7201a8\"],[0.3333333333333333,\"#9c179e\"],[0.4444444444444444,\"#bd3786\"],[0.5555555555555556,\"#d8576b\"],[0.6666666666666666,\"#ed7953\"],[0.7777777777777778,\"#fb9f3a\"],[0.8888888888888888,\"#fdca26\"],[1.0,\"#f0f921\"]]}],\"surface\":[{\"type\":\"surface\",\"colorbar\":{\"outlinewidth\":0,\"ticks\":\"\"},\"colorscale\":[[0.0,\"#0d0887\"],[0.1111111111111111,\"#46039f\"],[0.2222222222222222,\"#7201a8\"],[0.3333333333333333,\"#9c179e\"],[0.4444444444444444,\"#bd3786\"],[0.5555555555555556,\"#d8576b\"],[0.6666666666666666,\"#ed7953\"],[0.7777777777777778,\"#fb9f3a\"],[0.8888888888888888,\"#fdca26\"],[1.0,\"#f0f921\"]]}],\"mesh3d\":[{\"type\":\"mesh3d\",\"colorbar\":{\"outlinewidth\":0,\"ticks\":\"\"}}],\"scatter\":[{\"fillpattern\":{\"fillmode\":\"overlay\",\"size\":10,\"solidity\":0.2},\"type\":\"scatter\"}],\"parcoords\":[{\"type\":\"parcoords\",\"line\":{\"colorbar\":{\"outlinewidth\":0,\"ticks\":\"\"}}}],\"scatterpolargl\":[{\"type\":\"scatterpolargl\",\"marker\":{\"colorbar\":{\"outlinewidth\":0,\"ticks\":\"\"}}}],\"bar\":[{\"error_x\":{\"color\":\"#2a3f5f\"},\"error_y\":{\"color\":\"#2a3f5f\"},\"marker\":{\"line\":{\"color\":\"#E5ECF6\",\"width\":0.5},\"pattern\":{\"fillmode\":\"overlay\",\"size\":10,\"solidity\":0.2}},\"type\":\"bar\"}],\"scattergeo\":[{\"type\":\"scattergeo\",\"marker\":{\"colorbar\":{\"outlinewidth\":0,\"ticks\":\"\"}}}],\"scatterpolar\":[{\"type\":\"scatterpolar\",\"marker\":{\"colorbar\":{\"outlinewidth\":0,\"ticks\":\"\"}}}],\"histogram\":[{\"marker\":{\"pattern\":{\"fillmode\":\"overlay\",\"size\":10,\"solidity\":0.2}},\"type\":\"histogram\"}],\"scattergl\":[{\"type\":\"scattergl\",\"marker\":{\"colorbar\":{\"outlinewidth\":0,\"ticks\":\"\"}}}],\"scatter3d\":[{\"type\":\"scatter3d\",\"line\":{\"colorbar\":{\"outlinewidth\":0,\"ticks\":\"\"}},\"marker\":{\"colorbar\":{\"outlinewidth\":0,\"ticks\":\"\"}}}],\"scattermapbox\":[{\"type\":\"scattermapbox\",\"marker\":{\"colorbar\":{\"outlinewidth\":0,\"ticks\":\"\"}}}],\"scatterternary\":[{\"type\":\"scatterternary\",\"marker\":{\"colorbar\":{\"outlinewidth\":0,\"ticks\":\"\"}}}],\"scattercarpet\":[{\"type\":\"scattercarpet\",\"marker\":{\"colorbar\":{\"outlinewidth\":0,\"ticks\":\"\"}}}],\"carpet\":[{\"aaxis\":{\"endlinecolor\":\"#2a3f5f\",\"gridcolor\":\"white\",\"linecolor\":\"white\",\"minorgridcolor\":\"white\",\"startlinecolor\":\"#2a3f5f\"},\"baxis\":{\"endlinecolor\":\"#2a3f5f\",\"gridcolor\":\"white\",\"linecolor\":\"white\",\"minorgridcolor\":\"white\",\"startlinecolor\":\"#2a3f5f\"},\"type\":\"carpet\"}],\"table\":[{\"cells\":{\"fill\":{\"color\":\"#EBF0F8\"},\"line\":{\"color\":\"white\"}},\"header\":{\"fill\":{\"color\":\"#C8D4E3\"},\"line\":{\"color\":\"white\"}},\"type\":\"table\"}],\"barpolar\":[{\"marker\":{\"line\":{\"color\":\"#E5ECF6\",\"width\":0.5},\"pattern\":{\"fillmode\":\"overlay\",\"size\":10,\"solidity\":0.2}},\"type\":\"barpolar\"}],\"pie\":[{\"automargin\":true,\"type\":\"pie\"}]},\"layout\":{\"autotypenumbers\":\"strict\",\"colorway\":[\"#636efa\",\"#EF553B\",\"#00cc96\",\"#ab63fa\",\"#FFA15A\",\"#19d3f3\",\"#FF6692\",\"#B6E880\",\"#FF97FF\",\"#FECB52\"],\"font\":{\"color\":\"#2a3f5f\"},\"hovermode\":\"closest\",\"hoverlabel\":{\"align\":\"left\"},\"paper_bgcolor\":\"white\",\"plot_bgcolor\":\"#E5ECF6\",\"polar\":{\"bgcolor\":\"#E5ECF6\",\"angularaxis\":{\"gridcolor\":\"white\",\"linecolor\":\"white\",\"ticks\":\"\"},\"radialaxis\":{\"gridcolor\":\"white\",\"linecolor\":\"white\",\"ticks\":\"\"}},\"ternary\":{\"bgcolor\":\"#E5ECF6\",\"aaxis\":{\"gridcolor\":\"white\",\"linecolor\":\"white\",\"ticks\":\"\"},\"baxis\":{\"gridcolor\":\"white\",\"linecolor\":\"white\",\"ticks\":\"\"},\"caxis\":{\"gridcolor\":\"white\",\"linecolor\":\"white\",\"ticks\":\"\"}},\"coloraxis\":{\"colorbar\":{\"outlinewidth\":0,\"ticks\":\"\"}},\"colorscale\":{\"sequential\":[[0.0,\"#0d0887\"],[0.1111111111111111,\"#46039f\"],[0.2222222222222222,\"#7201a8\"],[0.3333333333333333,\"#9c179e\"],[0.4444444444444444,\"#bd3786\"],[0.5555555555555556,\"#d8576b\"],[0.6666666666666666,\"#ed7953\"],[0.7777777777777778,\"#fb9f3a\"],[0.8888888888888888,\"#fdca26\"],[1.0,\"#f0f921\"]],\"sequentialminus\":[[0.0,\"#0d0887\"],[0.1111111111111111,\"#46039f\"],[0.2222222222222222,\"#7201a8\"],[0.3333333333333333,\"#9c179e\"],[0.4444444444444444,\"#bd3786\"],[0.5555555555555556,\"#d8576b\"],[0.6666666666666666,\"#ed7953\"],[0.7777777777777778,\"#fb9f3a\"],[0.8888888888888888,\"#fdca26\"],[1.0,\"#f0f921\"]],\"diverging\":[[0,\"#8e0152\"],[0.1,\"#c51b7d\"],[0.2,\"#de77ae\"],[0.3,\"#f1b6da\"],[0.4,\"#fde0ef\"],[0.5,\"#f7f7f7\"],[0.6,\"#e6f5d0\"],[0.7,\"#b8e186\"],[0.8,\"#7fbc41\"],[0.9,\"#4d9221\"],[1,\"#276419\"]]},\"xaxis\":{\"gridcolor\":\"white\",\"linecolor\":\"white\",\"ticks\":\"\",\"title\":{\"standoff\":15},\"zerolinecolor\":\"white\",\"automargin\":true,\"zerolinewidth\":2},\"yaxis\":{\"gridcolor\":\"white\",\"linecolor\":\"white\",\"ticks\":\"\",\"title\":{\"standoff\":15},\"zerolinecolor\":\"white\",\"automargin\":true,\"zerolinewidth\":2},\"scene\":{\"xaxis\":{\"backgroundcolor\":\"#E5ECF6\",\"gridcolor\":\"white\",\"linecolor\":\"white\",\"showbackground\":true,\"ticks\":\"\",\"zerolinecolor\":\"white\",\"gridwidth\":2},\"yaxis\":{\"backgroundcolor\":\"#E5ECF6\",\"gridcolor\":\"white\",\"linecolor\":\"white\",\"showbackground\":true,\"ticks\":\"\",\"zerolinecolor\":\"white\",\"gridwidth\":2},\"zaxis\":{\"backgroundcolor\":\"#E5ECF6\",\"gridcolor\":\"white\",\"linecolor\":\"white\",\"showbackground\":true,\"ticks\":\"\",\"zerolinecolor\":\"white\",\"gridwidth\":2}},\"shapedefaults\":{\"line\":{\"color\":\"#2a3f5f\"}},\"annotationdefaults\":{\"arrowcolor\":\"#2a3f5f\",\"arrowhead\":0,\"arrowwidth\":1},\"geo\":{\"bgcolor\":\"white\",\"landcolor\":\"#E5ECF6\",\"subunitcolor\":\"white\",\"showland\":true,\"showlakes\":true,\"lakecolor\":\"white\"},\"title\":{\"x\":0.05},\"mapbox\":{\"style\":\"light\"}}},\"xaxis\":{\"anchor\":\"y\",\"domain\":[0.0,1.0],\"title\":{\"text\":\"x\"}},\"yaxis\":{\"anchor\":\"x\",\"domain\":[0.0,1.0],\"title\":{\"text\":\"y\"}},\"legend\":{\"tracegroupgap\":0},\"margin\":{\"t\":60}},                        {\"responsive\": true}                    ).then(function(){\n",
              "                            \n",
              "var gd = document.getElementById('f2eb5c7e-a16d-47a9-af09-58a4d97c457b');\n",
              "var x = new MutationObserver(function (mutations, observer) {{\n",
              "        var display = window.getComputedStyle(gd).display;\n",
              "        if (!display || display === 'none') {{\n",
              "            console.log([gd, 'removed!']);\n",
              "            Plotly.purge(gd);\n",
              "            observer.disconnect();\n",
              "        }}\n",
              "}});\n",
              "\n",
              "// Listen for the removal of the full notebook cells\n",
              "var notebookContainer = gd.closest('#notebook-container');\n",
              "if (notebookContainer) {{\n",
              "    x.observe(notebookContainer, {childList: true});\n",
              "}}\n",
              "\n",
              "// Listen for the clearing of the current output cell\n",
              "var outputEl = gd.closest('.output');\n",
              "if (outputEl) {{\n",
              "    x.observe(outputEl, {childList: true});\n",
              "}}\n",
              "\n",
              "                        })                };                            </script>        </div>\n",
              "</body>\n",
              "</html>"
            ]
          },
          "metadata": {}
        }
      ]
    },
    {
      "cell_type": "code",
      "source": [
        "# Gráfico 2\n",
        "grafico = px.scatter(x = X.ravel(), y=Y)\n",
        "grafico.add_scatter(x=X.ravel(), y=previsao_valores, name = 'Previsões')\n",
        "grafico.show()"
      ],
      "metadata": {
        "colab": {
          "base_uri": "https://localhost:8080/",
          "height": 542
        },
        "id": "qTmfp_hPwebT",
        "outputId": "06e7f35f-3676-4ec5-a702-2b2768e390f7"
      },
      "execution_count": null,
      "outputs": [
        {
          "output_type": "display_data",
          "data": {
            "text/html": [
              "<html>\n",
              "<head><meta charset=\"utf-8\" /></head>\n",
              "<body>\n",
              "    <div>            <script src=\"https://cdnjs.cloudflare.com/ajax/libs/mathjax/2.7.5/MathJax.js?config=TeX-AMS-MML_SVG\"></script><script type=\"text/javascript\">if (window.MathJax && window.MathJax.Hub && window.MathJax.Hub.Config) {window.MathJax.Hub.Config({SVG: {font: \"STIX-Web\"}});}</script>                <script type=\"text/javascript\">window.PlotlyConfig = {MathJaxConfig: 'local'};</script>\n",
              "        <script charset=\"utf-8\" src=\"https://cdn.plot.ly/plotly-2.24.1.min.js\"></script>                <div id=\"5ad5b5fb-d593-4dd8-be4c-2b20cb44f6e5\" class=\"plotly-graph-div\" style=\"height:525px; width:100%;\"></div>            <script type=\"text/javascript\">                                    window.PLOTLYENV=window.PLOTLYENV || {};                                    if (document.getElementById(\"5ad5b5fb-d593-4dd8-be4c-2b20cb44f6e5\")) {                    Plotly.newPlot(                        \"5ad5b5fb-d593-4dd8-be4c-2b20cb44f6e5\",                        [{\"hovertemplate\":\"x=%{x}\\u003cbr\\u003ey=%{y}\\u003cextra\\u003e\\u003c\\u002fextra\\u003e\",\"legendgroup\":\"\",\"marker\":{\"color\":\"#636efa\",\"symbol\":\"circle\"},\"mode\":\"markers\",\"name\":\"\",\"orientation\":\"v\",\"showlegend\":false,\"x\":[1,4,6,10,13,15,18,22,25,30],\"xaxis\":\"x\",\"y\":[150,385,499,680,735,859,989,1075,1500,1850],\"yaxis\":\"y\",\"type\":\"scatter\"},{\"name\":\"Previs\\u00f5es\",\"x\":[1,4,6,10,13,15,18,22,25,30],\"y\":[161.3353174603173,320.4841269841269,426.58333333333326,638.781746031746,797.9305555555555,904.029761904762,1063.1785714285716,1275.3769841269846,1434.5257936507937,1699.77380952381],\"type\":\"scatter\"}],                        {\"template\":{\"data\":{\"histogram2dcontour\":[{\"type\":\"histogram2dcontour\",\"colorbar\":{\"outlinewidth\":0,\"ticks\":\"\"},\"colorscale\":[[0.0,\"#0d0887\"],[0.1111111111111111,\"#46039f\"],[0.2222222222222222,\"#7201a8\"],[0.3333333333333333,\"#9c179e\"],[0.4444444444444444,\"#bd3786\"],[0.5555555555555556,\"#d8576b\"],[0.6666666666666666,\"#ed7953\"],[0.7777777777777778,\"#fb9f3a\"],[0.8888888888888888,\"#fdca26\"],[1.0,\"#f0f921\"]]}],\"choropleth\":[{\"type\":\"choropleth\",\"colorbar\":{\"outlinewidth\":0,\"ticks\":\"\"}}],\"histogram2d\":[{\"type\":\"histogram2d\",\"colorbar\":{\"outlinewidth\":0,\"ticks\":\"\"},\"colorscale\":[[0.0,\"#0d0887\"],[0.1111111111111111,\"#46039f\"],[0.2222222222222222,\"#7201a8\"],[0.3333333333333333,\"#9c179e\"],[0.4444444444444444,\"#bd3786\"],[0.5555555555555556,\"#d8576b\"],[0.6666666666666666,\"#ed7953\"],[0.7777777777777778,\"#fb9f3a\"],[0.8888888888888888,\"#fdca26\"],[1.0,\"#f0f921\"]]}],\"heatmap\":[{\"type\":\"heatmap\",\"colorbar\":{\"outlinewidth\":0,\"ticks\":\"\"},\"colorscale\":[[0.0,\"#0d0887\"],[0.1111111111111111,\"#46039f\"],[0.2222222222222222,\"#7201a8\"],[0.3333333333333333,\"#9c179e\"],[0.4444444444444444,\"#bd3786\"],[0.5555555555555556,\"#d8576b\"],[0.6666666666666666,\"#ed7953\"],[0.7777777777777778,\"#fb9f3a\"],[0.8888888888888888,\"#fdca26\"],[1.0,\"#f0f921\"]]}],\"heatmapgl\":[{\"type\":\"heatmapgl\",\"colorbar\":{\"outlinewidth\":0,\"ticks\":\"\"},\"colorscale\":[[0.0,\"#0d0887\"],[0.1111111111111111,\"#46039f\"],[0.2222222222222222,\"#7201a8\"],[0.3333333333333333,\"#9c179e\"],[0.4444444444444444,\"#bd3786\"],[0.5555555555555556,\"#d8576b\"],[0.6666666666666666,\"#ed7953\"],[0.7777777777777778,\"#fb9f3a\"],[0.8888888888888888,\"#fdca26\"],[1.0,\"#f0f921\"]]}],\"contourcarpet\":[{\"type\":\"contourcarpet\",\"colorbar\":{\"outlinewidth\":0,\"ticks\":\"\"}}],\"contour\":[{\"type\":\"contour\",\"colorbar\":{\"outlinewidth\":0,\"ticks\":\"\"},\"colorscale\":[[0.0,\"#0d0887\"],[0.1111111111111111,\"#46039f\"],[0.2222222222222222,\"#7201a8\"],[0.3333333333333333,\"#9c179e\"],[0.4444444444444444,\"#bd3786\"],[0.5555555555555556,\"#d8576b\"],[0.6666666666666666,\"#ed7953\"],[0.7777777777777778,\"#fb9f3a\"],[0.8888888888888888,\"#fdca26\"],[1.0,\"#f0f921\"]]}],\"surface\":[{\"type\":\"surface\",\"colorbar\":{\"outlinewidth\":0,\"ticks\":\"\"},\"colorscale\":[[0.0,\"#0d0887\"],[0.1111111111111111,\"#46039f\"],[0.2222222222222222,\"#7201a8\"],[0.3333333333333333,\"#9c179e\"],[0.4444444444444444,\"#bd3786\"],[0.5555555555555556,\"#d8576b\"],[0.6666666666666666,\"#ed7953\"],[0.7777777777777778,\"#fb9f3a\"],[0.8888888888888888,\"#fdca26\"],[1.0,\"#f0f921\"]]}],\"mesh3d\":[{\"type\":\"mesh3d\",\"colorbar\":{\"outlinewidth\":0,\"ticks\":\"\"}}],\"scatter\":[{\"fillpattern\":{\"fillmode\":\"overlay\",\"size\":10,\"solidity\":0.2},\"type\":\"scatter\"}],\"parcoords\":[{\"type\":\"parcoords\",\"line\":{\"colorbar\":{\"outlinewidth\":0,\"ticks\":\"\"}}}],\"scatterpolargl\":[{\"type\":\"scatterpolargl\",\"marker\":{\"colorbar\":{\"outlinewidth\":0,\"ticks\":\"\"}}}],\"bar\":[{\"error_x\":{\"color\":\"#2a3f5f\"},\"error_y\":{\"color\":\"#2a3f5f\"},\"marker\":{\"line\":{\"color\":\"#E5ECF6\",\"width\":0.5},\"pattern\":{\"fillmode\":\"overlay\",\"size\":10,\"solidity\":0.2}},\"type\":\"bar\"}],\"scattergeo\":[{\"type\":\"scattergeo\",\"marker\":{\"colorbar\":{\"outlinewidth\":0,\"ticks\":\"\"}}}],\"scatterpolar\":[{\"type\":\"scatterpolar\",\"marker\":{\"colorbar\":{\"outlinewidth\":0,\"ticks\":\"\"}}}],\"histogram\":[{\"marker\":{\"pattern\":{\"fillmode\":\"overlay\",\"size\":10,\"solidity\":0.2}},\"type\":\"histogram\"}],\"scattergl\":[{\"type\":\"scattergl\",\"marker\":{\"colorbar\":{\"outlinewidth\":0,\"ticks\":\"\"}}}],\"scatter3d\":[{\"type\":\"scatter3d\",\"line\":{\"colorbar\":{\"outlinewidth\":0,\"ticks\":\"\"}},\"marker\":{\"colorbar\":{\"outlinewidth\":0,\"ticks\":\"\"}}}],\"scattermapbox\":[{\"type\":\"scattermapbox\",\"marker\":{\"colorbar\":{\"outlinewidth\":0,\"ticks\":\"\"}}}],\"scatterternary\":[{\"type\":\"scatterternary\",\"marker\":{\"colorbar\":{\"outlinewidth\":0,\"ticks\":\"\"}}}],\"scattercarpet\":[{\"type\":\"scattercarpet\",\"marker\":{\"colorbar\":{\"outlinewidth\":0,\"ticks\":\"\"}}}],\"carpet\":[{\"aaxis\":{\"endlinecolor\":\"#2a3f5f\",\"gridcolor\":\"white\",\"linecolor\":\"white\",\"minorgridcolor\":\"white\",\"startlinecolor\":\"#2a3f5f\"},\"baxis\":{\"endlinecolor\":\"#2a3f5f\",\"gridcolor\":\"white\",\"linecolor\":\"white\",\"minorgridcolor\":\"white\",\"startlinecolor\":\"#2a3f5f\"},\"type\":\"carpet\"}],\"table\":[{\"cells\":{\"fill\":{\"color\":\"#EBF0F8\"},\"line\":{\"color\":\"white\"}},\"header\":{\"fill\":{\"color\":\"#C8D4E3\"},\"line\":{\"color\":\"white\"}},\"type\":\"table\"}],\"barpolar\":[{\"marker\":{\"line\":{\"color\":\"#E5ECF6\",\"width\":0.5},\"pattern\":{\"fillmode\":\"overlay\",\"size\":10,\"solidity\":0.2}},\"type\":\"barpolar\"}],\"pie\":[{\"automargin\":true,\"type\":\"pie\"}]},\"layout\":{\"autotypenumbers\":\"strict\",\"colorway\":[\"#636efa\",\"#EF553B\",\"#00cc96\",\"#ab63fa\",\"#FFA15A\",\"#19d3f3\",\"#FF6692\",\"#B6E880\",\"#FF97FF\",\"#FECB52\"],\"font\":{\"color\":\"#2a3f5f\"},\"hovermode\":\"closest\",\"hoverlabel\":{\"align\":\"left\"},\"paper_bgcolor\":\"white\",\"plot_bgcolor\":\"#E5ECF6\",\"polar\":{\"bgcolor\":\"#E5ECF6\",\"angularaxis\":{\"gridcolor\":\"white\",\"linecolor\":\"white\",\"ticks\":\"\"},\"radialaxis\":{\"gridcolor\":\"white\",\"linecolor\":\"white\",\"ticks\":\"\"}},\"ternary\":{\"bgcolor\":\"#E5ECF6\",\"aaxis\":{\"gridcolor\":\"white\",\"linecolor\":\"white\",\"ticks\":\"\"},\"baxis\":{\"gridcolor\":\"white\",\"linecolor\":\"white\",\"ticks\":\"\"},\"caxis\":{\"gridcolor\":\"white\",\"linecolor\":\"white\",\"ticks\":\"\"}},\"coloraxis\":{\"colorbar\":{\"outlinewidth\":0,\"ticks\":\"\"}},\"colorscale\":{\"sequential\":[[0.0,\"#0d0887\"],[0.1111111111111111,\"#46039f\"],[0.2222222222222222,\"#7201a8\"],[0.3333333333333333,\"#9c179e\"],[0.4444444444444444,\"#bd3786\"],[0.5555555555555556,\"#d8576b\"],[0.6666666666666666,\"#ed7953\"],[0.7777777777777778,\"#fb9f3a\"],[0.8888888888888888,\"#fdca26\"],[1.0,\"#f0f921\"]],\"sequentialminus\":[[0.0,\"#0d0887\"],[0.1111111111111111,\"#46039f\"],[0.2222222222222222,\"#7201a8\"],[0.3333333333333333,\"#9c179e\"],[0.4444444444444444,\"#bd3786\"],[0.5555555555555556,\"#d8576b\"],[0.6666666666666666,\"#ed7953\"],[0.7777777777777778,\"#fb9f3a\"],[0.8888888888888888,\"#fdca26\"],[1.0,\"#f0f921\"]],\"diverging\":[[0,\"#8e0152\"],[0.1,\"#c51b7d\"],[0.2,\"#de77ae\"],[0.3,\"#f1b6da\"],[0.4,\"#fde0ef\"],[0.5,\"#f7f7f7\"],[0.6,\"#e6f5d0\"],[0.7,\"#b8e186\"],[0.8,\"#7fbc41\"],[0.9,\"#4d9221\"],[1,\"#276419\"]]},\"xaxis\":{\"gridcolor\":\"white\",\"linecolor\":\"white\",\"ticks\":\"\",\"title\":{\"standoff\":15},\"zerolinecolor\":\"white\",\"automargin\":true,\"zerolinewidth\":2},\"yaxis\":{\"gridcolor\":\"white\",\"linecolor\":\"white\",\"ticks\":\"\",\"title\":{\"standoff\":15},\"zerolinecolor\":\"white\",\"automargin\":true,\"zerolinewidth\":2},\"scene\":{\"xaxis\":{\"backgroundcolor\":\"#E5ECF6\",\"gridcolor\":\"white\",\"linecolor\":\"white\",\"showbackground\":true,\"ticks\":\"\",\"zerolinecolor\":\"white\",\"gridwidth\":2},\"yaxis\":{\"backgroundcolor\":\"#E5ECF6\",\"gridcolor\":\"white\",\"linecolor\":\"white\",\"showbackground\":true,\"ticks\":\"\",\"zerolinecolor\":\"white\",\"gridwidth\":2},\"zaxis\":{\"backgroundcolor\":\"#E5ECF6\",\"gridcolor\":\"white\",\"linecolor\":\"white\",\"showbackground\":true,\"ticks\":\"\",\"zerolinecolor\":\"white\",\"gridwidth\":2}},\"shapedefaults\":{\"line\":{\"color\":\"#2a3f5f\"}},\"annotationdefaults\":{\"arrowcolor\":\"#2a3f5f\",\"arrowhead\":0,\"arrowwidth\":1},\"geo\":{\"bgcolor\":\"white\",\"landcolor\":\"#E5ECF6\",\"subunitcolor\":\"white\",\"showland\":true,\"showlakes\":true,\"lakecolor\":\"white\"},\"title\":{\"x\":0.05},\"mapbox\":{\"style\":\"light\"}}},\"xaxis\":{\"anchor\":\"y\",\"domain\":[0.0,1.0],\"title\":{\"text\":\"x\"}},\"yaxis\":{\"anchor\":\"x\",\"domain\":[0.0,1.0],\"title\":{\"text\":\"y\"}},\"legend\":{\"tracegroupgap\":0},\"margin\":{\"t\":60}},                        {\"responsive\": true}                    ).then(function(){\n",
              "                            \n",
              "var gd = document.getElementById('5ad5b5fb-d593-4dd8-be4c-2b20cb44f6e5');\n",
              "var x = new MutationObserver(function (mutations, observer) {{\n",
              "        var display = window.getComputedStyle(gd).display;\n",
              "        if (!display || display === 'none') {{\n",
              "            console.log([gd, 'removed!']);\n",
              "            Plotly.purge(gd);\n",
              "            observer.disconnect();\n",
              "        }}\n",
              "}});\n",
              "\n",
              "// Listen for the removal of the full notebook cells\n",
              "var notebookContainer = gd.closest('#notebook-container');\n",
              "if (notebookContainer) {{\n",
              "    x.observe(notebookContainer, {childList: true});\n",
              "}}\n",
              "\n",
              "// Listen for the clearing of the current output cell\n",
              "var outputEl = gd.closest('.output');\n",
              "if (outputEl) {{\n",
              "    x.observe(outputEl, {childList: true});\n",
              "}}\n",
              "\n",
              "                        })                };                            </script>        </div>\n",
              "</body>\n",
              "</html>"
            ]
          },
          "metadata": {}
        }
      ]
    },
    {
      "cell_type": "markdown",
      "source": [
        "### Calculando o valor da diária através da função predict do modelo"
      ],
      "metadata": {
        "id": "JPsUe8mayHXq"
      }
    },
    {
      "cell_type": "markdown",
      "source": [
        "![image.png](data:image/png;base64,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)"
      ],
      "metadata": {
        "id": "EMOK3LiLyeQT"
      }
    },
    {
      "cell_type": "markdown",
      "source": [
        "\n",
        "\n",
        "*   *y_i = Previsão do preço da diária.*\n",
        "*   *α = Constante.*\n",
        "*   *β_i = Coeficiente de inclinação da reta.*\n",
        "*   *X_i = Número de pessoas.*\n",
        "*   *ε_i = Erro.*\n",
        "\n",
        "\n"
      ],
      "metadata": {
        "id": "P4MNRQVrykOD"
      }
    },
    {
      "cell_type": "code",
      "source": [
        "alfa = predicao_custo_diaria.intercept_\n",
        "beta = predicao_custo_diaria.coef_\n",
        "Xi = 8\n",
        "\n",
        "alfa + beta * Xi"
      ],
      "metadata": {
        "colab": {
          "base_uri": "https://localhost:8080/"
        },
        "id": "1OnxyWo-ydj4",
        "outputId": "afb24adb-ab88-4875-e668-4f02048adfe0"
      },
      "execution_count": null,
      "outputs": [
        {
          "output_type": "execute_result",
          "data": {
            "text/plain": [
              "array([532.68253968])"
            ]
          },
          "metadata": {},
          "execution_count": 41
        }
      ]
    },
    {
      "cell_type": "markdown",
      "source": [
        "### Calculando o valor da diária através da função predict do modelo"
      ],
      "metadata": {
        "id": "9DSs40-B0JsJ"
      }
    },
    {
      "cell_type": "code",
      "source": [
        "# Verificando de modo direto\n",
        "predicao_custo_diaria.predict([[8]])"
      ],
      "metadata": {
        "colab": {
          "base_uri": "https://localhost:8080/"
        },
        "id": "qCS1DI670YNo",
        "outputId": "f1436423-c257-4ff2-a563-2637dde95872"
      },
      "execution_count": null,
      "outputs": [
        {
          "output_type": "execute_result",
          "data": {
            "text/plain": [
              "array([532.68253968])"
            ]
          },
          "metadata": {},
          "execution_count": 40
        }
      ]
    },
    {
      "cell_type": "markdown",
      "source": [
        "## Avaliação do modelo"
      ],
      "metadata": {
        "id": "a_csxQqR0UoK"
      }
    },
    {
      "cell_type": "code",
      "source": [
        "# Calculando a acurácia do modelo\n",
        "predicao_custo_diaria.score(X,Y)"
      ],
      "metadata": {
        "colab": {
          "base_uri": "https://localhost:8080/"
        },
        "id": "nJhwgCG-0UJY",
        "outputId": "8b8cce84-b676-49f2-e3bb-e202cf9d9ccd"
      },
      "execution_count": null,
      "outputs": [
        {
          "output_type": "execute_result",
          "data": {
            "text/plain": [
              "0.9619651013767775"
            ]
          },
          "metadata": {},
          "execution_count": 42
        }
      ]
    },
    {
      "cell_type": "markdown",
      "source": [
        "### Calculando o Mean Absolut Error\n"
      ],
      "metadata": {
        "id": "SYHOU8Bj1I9i"
      }
    },
    {
      "cell_type": "markdown",
      "source": [
        "![image.png](data:image/png;base64,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)"
      ],
      "metadata": {
        "id": "sMstMKxg1RYR"
      }
    },
    {
      "cell_type": "code",
      "source": [
        "mean_absolute_error(Y, previsao_valores)"
      ],
      "metadata": {
        "colab": {
          "base_uri": "https://localhost:8080/"
        },
        "id": "np-YcFkW1QON",
        "outputId": "c6c74d08-a577-47a9-828c-ec0391e14034"
      },
      "execution_count": null,
      "outputs": [
        {
          "output_type": "execute_result",
          "data": {
            "text/plain": [
              "78.7702380952381"
            ]
          },
          "metadata": {},
          "execution_count": 44
        }
      ]
    },
    {
      "cell_type": "markdown",
      "source": [
        "### Calculando o Mean Squared Error"
      ],
      "metadata": {
        "id": "DzwTcIcQ1X8h"
      }
    },
    {
      "cell_type": "markdown",
      "source": [
        "![image.png](data:image/png;base64,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)"
      ],
      "metadata": {
        "id": "WrNhFIf515zI"
      }
    },
    {
      "cell_type": "code",
      "source": [
        "MSE = mean_squared_error(Y, previsao_valores)\n",
        "print(MSE)"
      ],
      "metadata": {
        "colab": {
          "base_uri": "https://localhost:8080/"
        },
        "id": "SL5ZhhZc1b9y",
        "outputId": "1629532a-7bc8-4288-fff3-b051830f496c"
      },
      "execution_count": null,
      "outputs": [
        {
          "output_type": "stream",
          "name": "stdout",
          "text": [
            "8973.001587301591\n"
          ]
        }
      ]
    },
    {
      "cell_type": "markdown",
      "source": [
        "### Calculando o Root Mean Squared Error"
      ],
      "metadata": {
        "id": "YDNcErNh2NqY"
      }
    },
    {
      "cell_type": "markdown",
      "source": [
        "![image.png](data:image/png;base64,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)"
      ],
      "metadata": {
        "id": "eVWd6IkK2UBH"
      }
    },
    {
      "cell_type": "code",
      "source": [
        "np.sqrt(MSE)"
      ],
      "metadata": {
        "colab": {
          "base_uri": "https://localhost:8080/"
        },
        "id": "wo0yaMK32TWv",
        "outputId": "cd1a9eb3-2872-4890-d2a6-21e387e20a96"
      },
      "execution_count": null,
      "outputs": [
        {
          "output_type": "execute_result",
          "data": {
            "text/plain": [
              "94.72592880147225"
            ]
          },
          "metadata": {},
          "execution_count": 48
        }
      ]
    }
  ]
}